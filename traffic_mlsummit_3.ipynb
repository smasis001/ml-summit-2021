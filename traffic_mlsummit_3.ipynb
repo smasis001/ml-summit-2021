{
 "cells": [
  {
   "cell_type": "markdown",
   "metadata": {},
   "source": [
    "# Interpretable Multivariate Forecasting with Deep Learning\n",
    "## **Exercise**: _Traffic & Construction (Part 3)_\n",
    "### Workshop for ML Summit — scheduled for April 19th, 2020 2:15 PM CEST\n",
    "### by Serg Masís ([LinkedIn](https://www.linkedin.com/in/smasis/), [Twitter](https://twitter.com/smasis), [Amazon](https://www.amazon.com/kindle-dbs/entity/author/B08PQ8P9BS?_encoding=UTF8&node=283155&offset=0&pageSize=12&searchAlias=stripbooks&sort=author-sidecar-rank&page=1&langFilter=default#formatSelectorHeader), [Serg.ai](https://www.serg.ai/), [Github](https://www.serg.ai/), [Packt](https://www.packtpub.com/authors/serg-masis)) "
   ]
  },
  {
   "cell_type": "markdown",
   "metadata": {},
   "source": [
    "This notebook will walk through:\n",
    "\n",
    "**PART III**\n",
    "\n",
    "- With Morris Sensitivity Analysis, you will identify Factor Prioritization, which ranks factors (in other words, features) by how much they can drive output variability.\n",
    "- With Sobol Sensitivity Analysis, you will compute Factor Fixing, which helps determine what factors aren't influential. It does this by quantifying the input factors' contributions and interactions to the output's variability. With this, you can understand what uncertain factors may have the most effect on potential fines and costs, thus producing a variance-based cost-sensitivity analysis."
   ]
  },
  {
   "cell_type": "markdown",
   "metadata": {},
   "source": [
    "## 1) Install Libraries\n",
    "#### _(if not installed already)_"
   ]
  },
  {
   "cell_type": "markdown",
   "metadata": {},
   "source": [
    "Only if not Google Colab because google colab has these preinstalled:"
   ]
  },
  {
   "cell_type": "code",
   "execution_count": null,
   "metadata": {},
   "outputs": [],
   "source": [
    "!pip install --upgrade pandas numpy scikit-learn statsmodels tensorflow Keras matplotlib seaborn"
   ]
  },
  {
   "cell_type": "markdown",
   "metadata": {},
   "source": [
    "Always installed unless installed already:"
   ]
  },
  {
   "cell_type": "code",
   "execution_count": null,
   "metadata": {},
   "outputs": [],
   "source": [
    "!pip install --upgrade machine-learning-datasets\n",
    "!pip install --upgrade distython SALib"
   ]
  },
  {
   "cell_type": "markdown",
   "metadata": {},
   "source": [
    "## 2) Preparations"
   ]
  },
  {
   "cell_type": "markdown",
   "metadata": {},
   "source": [
    "Run every cell in this section:"
   ]
  },
  {
   "cell_type": "code",
   "execution_count": 1,
   "metadata": {},
   "outputs": [
    {
     "name": "stderr",
     "output_type": "stream",
     "text": [
      "Using plaidml.keras.backend backend.\n"
     ]
    }
   ],
   "source": [
    "import math\n",
    "import os\n",
    "import warnings\n",
    "warnings.filterwarnings(\"ignore\")\n",
    "\n",
    "#DATA WRANGLING\n",
    "import machine_learning_datasets as mldatasets\n",
    "import pandas as pd\n",
    "import numpy as np\n",
    "from sklearn.preprocessing import MinMaxScaler\n",
    "from tensorflow.keras.preprocessing.sequence import TimeseriesGenerator\n",
    "from keras.utils.data_utils import get_file\n",
    "\n",
    "#VISUALIZATION\n",
    "import matplotlib.pyplot as plt\n",
    "import seaborn as sns\n",
    "\n",
    "#MODELING\n",
    "import tensorflow as tf\n",
    "from tensorflow import keras\n",
    "\n",
    "#INTERPRETATION\n",
    "from sklearn import metrics\n",
    "from distython import HEOM\n",
    "from SALib.sample import morris as ms\n",
    "from SALib.analyze import morris as ma\n",
    "from SALib.plotting import morris as mp\n",
    "from SALib.sample import saltelli as ss\n",
    "from SALib.analyze import sobol as sa\n",
    "from SALib.plotting import bar as sp"
   ]
  },
  {
   "cell_type": "code",
   "execution_count": 3,
   "metadata": {},
   "outputs": [
    {
     "name": "stdout",
     "output_type": "stream",
     "text": [
      "https://archive.ics.uci.edu/ml/machine-learning-databases/00492/Metro_Interstate_Traffic_Volume.csv.gz downloaded to /Users/smasis/Documents/OTHER/InterpretableMLBook/presentations/ml-summit-2021/data/Metro_Interstate_Traffic_Volume.csv.gz\n",
      "1 dataset files found in /Users/smasis/Documents/OTHER/InterpretableMLBook/presentations/ml-summit-2021/data folder\n",
      "parsing /Users/smasis/Documents/OTHER/InterpretableMLBook/presentations/ml-summit-2021/data/Metro_Interstate_Traffic_Volume.csv.gz\n"
     ]
    }
   ],
   "source": [
    "traffic_df = mldatasets.load(\"traffic-volume\", prepare=True)"
   ]
  },
  {
   "cell_type": "code",
   "execution_count": 4,
   "metadata": {},
   "outputs": [
    {
     "data": {
      "text/plain": [
       "MinMaxScaler()"
      ]
     },
     "execution_count": 4,
     "metadata": {},
     "output_type": "execute_result"
    }
   ],
   "source": [
    "y_scaler = MinMaxScaler()\n",
    "y_scaler.fit(traffic_df[['traffic_volume']])\n",
    "X_scaler = MinMaxScaler()\n",
    "X_scaler.fit(traffic_df.drop(['traffic_volume'], axis=1))"
   ]
  },
  {
   "cell_type": "code",
   "execution_count": 5,
   "metadata": {},
   "outputs": [
    {
     "name": "stdout",
     "output_type": "stream",
     "text": [
      "gen_all_678:\t1041\t×\t(24, 672, 14)\t→\t(24, 1)\n"
     ]
    }
   ],
   "source": [
    "lookback = 672\n",
    "y_all = y_scaler.transform(traffic_df[['traffic_volume']])\n",
    "X_all = X_scaler.transform(traffic_df.drop(['traffic_volume'], axis=1))\n",
    "gen_all = TimeseriesGenerator(X_all, y_all, length=672, batch_size=24)\n",
    "print(\"gen_all_678:\\t%s\\t×\\t%s\\t→\\t%s\" % (len(gen_all),\\\n",
    "                                    gen_all[0][0].shape,\\\n",
    "                                    gen_all[0][1].shape))"
   ]
  },
  {
   "cell_type": "code",
   "execution_count": 6,
   "metadata": {},
   "outputs": [],
   "source": [
    "X_df = traffic_df.drop(['traffic_volume'], axis=1).reset_index(drop=True)"
   ]
  },
  {
   "cell_type": "code",
   "execution_count": 7,
   "metadata": {},
   "outputs": [],
   "source": [
    "working_season_df = traffic_df[lookback:].drop(['traffic_volume'], axis=1).copy()\n",
    "working_season_df = working_season_df[(working_season_df.index.month >= 5) &\\\n",
    "                                      (working_season_df.index.month <= 10)]"
   ]
  },
  {
   "cell_type": "code",
   "execution_count": 8,
   "metadata": {},
   "outputs": [],
   "source": [
    "working_hrs_df = working_season_df[(working_season_df.dow < 5) &\\\n",
    "                                   ((working_season_df.hr < 5) |\\\n",
    "                                    (working_season_df.hr > 22))]"
   ]
  },
  {
   "cell_type": "code",
   "execution_count": 9,
   "metadata": {},
   "outputs": [],
   "source": [
    "rand = 9\n",
    "os.environ['PYTHONHASHSEED']=str(rand)\n",
    "tf.random.set_seed(rand)\n",
    "np.random.seed(rand)"
   ]
  },
  {
   "cell_type": "code",
   "execution_count": 10,
   "metadata": {},
   "outputs": [
    {
     "name": "stdout",
     "output_type": "stream",
     "text": [
      "Model: \"Traffic_Bidirectional_LSTM_672\"\n",
      "_________________________________________________________________\n",
      "Layer (type)                 Output Shape              Param #   \n",
      "=================================================================\n",
      "Bidir_LSTM (Bidirectional)   (24, 672)                 943488    \n",
      "_________________________________________________________________\n",
      "Dropout (Dropout)            (24, 672)                 0         \n",
      "_________________________________________________________________\n",
      "Dense (Dense)                (24, 1)                   673       \n",
      "=================================================================\n",
      "Total params: 944,161\n",
      "Trainable params: 944,161\n",
      "Non-trainable params: 0\n",
      "_________________________________________________________________\n"
     ]
    }
   ],
   "source": [
    "model_path = get_file('LSTM_traffic_672_final.hdf5',\\\n",
    "            'https://github.com/PacktPublishing/Interpretable-Machine-Learning-with-Python/blob/master/models/LSTM_traffic_672_final.hdf5?raw=true')\n",
    "lstm_traffic_mdl = keras.models.load_model(model_path)\n",
    "lstm_traffic_mdl.summary()"
   ]
  },
  {
   "cell_type": "code",
   "execution_count": 11,
   "metadata": {},
   "outputs": [],
   "source": [
    "def filt_fn(X_df, x, lookback):\n",
    "    #print(x.tolist())\n",
    "    x_ = x.copy()\n",
    "    x_[0] = round(x_[0])\n",
    "    x_[1] = round(x_[1])\n",
    "    x_[4] = round(x_[4])\n",
    "    x_[5] = round(x_[5])\n",
    "    if x_[1] < 0:\n",
    "        x_[1] = 24 + x_[1]\n",
    "        x_[0] = x_[0] - 1\n",
    "    if x_[0] < 0:\n",
    "        x_[0] = 7 + x_[0]\n",
    "    x_[6] = round(x_[6])\n",
    "    x_[7] = round(x_[7])\n",
    "    x_[8] = round(x_[8])\n",
    "    x_[9] = round(x_[9])\n",
    "    x_[10] = round(x_[10])\n",
    "    x_[11] = round(x_[11])\n",
    "    x_[12] = round(x_[12])\n",
    "    x_[13] = round(x_[13])\n",
    "    #if not (x==x_).all(): print('\\t%s' % x_.tolist())\n",
    "    X_filt_df = X_df[(X_df.index >= lookback) & (X_df.dow==x_[0]) & (X_df.hr==x_[1]) &\\\n",
    "             (X_df.is_holiday==x_[5]) & (X_df.temp-5<=x_[2]) & (X_df.temp+5>=x_[2])]\n",
    "    if X_filt_df.shape[0]==0:\n",
    "        X_filt_df = X_df[(X_df.index >= lookback) & (X_df.dow==x_[0]) & (X_df.hr==x_[1]) &\\\n",
    "                         (X_df.is_holiday==x_[5]) & (X_df.temp-8<=x_[2]) & (X_df.temp+8>=x_[2])]\n",
    "    if X_filt_df.shape[0]==0:\n",
    "        X_filt_df = X_df[(X_df.index >= lookback) & (X_df.dow==x_[0]) & (X_df.hr==x_[1]) &\\\n",
    "                         (X_df.temp-11<=x_[2]) & (X_df.temp+11>=x_[2])]\n",
    "    return X_filt_df, x_"
   ]
  },
  {
   "cell_type": "code",
   "execution_count": 12,
   "metadata": {},
   "outputs": [],
   "source": [
    "cat_idxs = np.where(traffic_df.drop(['traffic_volume'], axis=1).dtypes != np.float64)[0]\n",
    "heom_dist = HEOM(X_df.values, cat_idxs)"
   ]
  },
  {
   "cell_type": "code",
   "execution_count": 13,
   "metadata": {},
   "outputs": [],
   "source": [
    "predict_fn = lambda X: mldatasets.\\\n",
    "                        approx_predict_ts(X, X_df, gen_all, lstm_traffic_mdl,\\\n",
    "                              dist_metric=heom_dist.heom, lookback=lookback,\\\n",
    "                              filt_fn=filt_fn, X_scaler=X_scaler, y_scaler=y_scaler)"
   ]
  },
  {
   "cell_type": "markdown",
   "metadata": {},
   "source": [
    "## 3) Identifying Influential Features with Factor Prioritization"
   ]
  },
  {
   "cell_type": "markdown",
   "metadata": {},
   "source": [
    "The Morris Method is one of several global sensitivity analysis methods that range from simpler Fractional Factorial to complicated Monte Carlo Filtering. Morris is somewhere in-between this spectrum, falling into two categories. It uses one-at-a-time sampling, which means that only one value changes between consecutive simulations. It's also elementary effects (EE), which means that it doesn't quantify the exact effect of a factor in a model but rather gauges its importance and relationship with other factors. "
   ]
  },
  {
   "cell_type": "markdown",
   "metadata": {},
   "source": [
    "The Morris method derives a distribution of elementary effects that it associates with an individual factor. Each EE distribution has a mean (𝜇) and a standard deviation (𝜎). These two statistics are what helps map the factors into different classifications. The mean could be negative when the model is non-monotonic, so a Morris method variation adjusts for this with absolute values (𝜇∗) so that it is more manageable to interpret. We will use this variation here."
   ]
  },
  {
   "cell_type": "markdown",
   "metadata": {},
   "source": [
    "### 3.1) Define Problem"
   ]
  },
  {
   "cell_type": "markdown",
   "metadata": {},
   "source": [
    "We will include the 2.5%, 50%, and 97.5% percentiles to understand where the median and outliers lie within the \"working season\":"
   ]
  },
  {
   "cell_type": "code",
   "execution_count": 14,
   "metadata": {},
   "outputs": [
    {
     "data": {
      "text/html": [
       "<div>\n",
       "<style scoped>\n",
       "    .dataframe tbody tr th:only-of-type {\n",
       "        vertical-align: middle;\n",
       "    }\n",
       "\n",
       "    .dataframe tbody tr th {\n",
       "        vertical-align: top;\n",
       "    }\n",
       "\n",
       "    .dataframe thead th {\n",
       "        text-align: right;\n",
       "    }\n",
       "</style>\n",
       "<table border=\"1\" class=\"dataframe\">\n",
       "  <thead>\n",
       "    <tr style=\"text-align: right;\">\n",
       "      <th></th>\n",
       "      <th>count</th>\n",
       "      <th>mean</th>\n",
       "      <th>std</th>\n",
       "      <th>min</th>\n",
       "      <th>2.5%</th>\n",
       "      <th>50%</th>\n",
       "      <th>97.5%</th>\n",
       "      <th>max</th>\n",
       "    </tr>\n",
       "  </thead>\n",
       "  <tbody>\n",
       "    <tr>\n",
       "      <th>dow</th>\n",
       "      <td>2232.0</td>\n",
       "      <td>1.991935</td>\n",
       "      <td>1.415458</td>\n",
       "      <td>0.00</td>\n",
       "      <td>0.00000</td>\n",
       "      <td>2.000</td>\n",
       "      <td>4.00000</td>\n",
       "      <td>4.000</td>\n",
       "    </tr>\n",
       "    <tr>\n",
       "      <th>hr</th>\n",
       "      <td>2232.0</td>\n",
       "      <td>5.500000</td>\n",
       "      <td>7.933780</td>\n",
       "      <td>0.00</td>\n",
       "      <td>0.00000</td>\n",
       "      <td>2.500</td>\n",
       "      <td>23.00000</td>\n",
       "      <td>23.000</td>\n",
       "    </tr>\n",
       "    <tr>\n",
       "      <th>temp</th>\n",
       "      <td>2232.0</td>\n",
       "      <td>16.026438</td>\n",
       "      <td>5.380406</td>\n",
       "      <td>-2.57</td>\n",
       "      <td>3.17875</td>\n",
       "      <td>16.935</td>\n",
       "      <td>24.47675</td>\n",
       "      <td>30.458</td>\n",
       "    </tr>\n",
       "    <tr>\n",
       "      <th>rain_1h</th>\n",
       "      <td>2232.0</td>\n",
       "      <td>0.099628</td>\n",
       "      <td>0.603634</td>\n",
       "      <td>0.00</td>\n",
       "      <td>0.00000</td>\n",
       "      <td>0.000</td>\n",
       "      <td>1.45125</td>\n",
       "      <td>10.920</td>\n",
       "    </tr>\n",
       "    <tr>\n",
       "      <th>cloud_coverage</th>\n",
       "      <td>2232.0</td>\n",
       "      <td>29.178763</td>\n",
       "      <td>36.701417</td>\n",
       "      <td>0.00</td>\n",
       "      <td>0.00000</td>\n",
       "      <td>1.000</td>\n",
       "      <td>90.00000</td>\n",
       "      <td>100.000</td>\n",
       "    </tr>\n",
       "    <tr>\n",
       "      <th>is_holiday</th>\n",
       "      <td>2232.0</td>\n",
       "      <td>0.037634</td>\n",
       "      <td>0.190353</td>\n",
       "      <td>0.00</td>\n",
       "      <td>0.00000</td>\n",
       "      <td>0.000</td>\n",
       "      <td>1.00000</td>\n",
       "      <td>1.000</td>\n",
       "    </tr>\n",
       "    <tr>\n",
       "      <th>weather_Clear</th>\n",
       "      <td>2232.0</td>\n",
       "      <td>0.432348</td>\n",
       "      <td>0.495513</td>\n",
       "      <td>0.00</td>\n",
       "      <td>0.00000</td>\n",
       "      <td>0.000</td>\n",
       "      <td>1.00000</td>\n",
       "      <td>1.000</td>\n",
       "    </tr>\n",
       "    <tr>\n",
       "      <th>weather_Clouds</th>\n",
       "      <td>2232.0</td>\n",
       "      <td>0.207885</td>\n",
       "      <td>0.405885</td>\n",
       "      <td>0.00</td>\n",
       "      <td>0.00000</td>\n",
       "      <td>0.000</td>\n",
       "      <td>1.00000</td>\n",
       "      <td>1.000</td>\n",
       "    </tr>\n",
       "    <tr>\n",
       "      <th>weather_Haze</th>\n",
       "      <td>2232.0</td>\n",
       "      <td>0.010753</td>\n",
       "      <td>0.103159</td>\n",
       "      <td>0.00</td>\n",
       "      <td>0.00000</td>\n",
       "      <td>0.000</td>\n",
       "      <td>0.00000</td>\n",
       "      <td>1.000</td>\n",
       "    </tr>\n",
       "    <tr>\n",
       "      <th>weather_Mist</th>\n",
       "      <td>2232.0</td>\n",
       "      <td>0.104391</td>\n",
       "      <td>0.305835</td>\n",
       "      <td>0.00</td>\n",
       "      <td>0.00000</td>\n",
       "      <td>0.000</td>\n",
       "      <td>1.00000</td>\n",
       "      <td>1.000</td>\n",
       "    </tr>\n",
       "    <tr>\n",
       "      <th>weather_Other</th>\n",
       "      <td>2232.0</td>\n",
       "      <td>0.058244</td>\n",
       "      <td>0.234256</td>\n",
       "      <td>0.00</td>\n",
       "      <td>0.00000</td>\n",
       "      <td>0.000</td>\n",
       "      <td>1.00000</td>\n",
       "      <td>1.000</td>\n",
       "    </tr>\n",
       "    <tr>\n",
       "      <th>weather_Rain</th>\n",
       "      <td>2232.0</td>\n",
       "      <td>0.181452</td>\n",
       "      <td>0.385478</td>\n",
       "      <td>0.00</td>\n",
       "      <td>0.00000</td>\n",
       "      <td>0.000</td>\n",
       "      <td>1.00000</td>\n",
       "      <td>1.000</td>\n",
       "    </tr>\n",
       "    <tr>\n",
       "      <th>weather_Snow</th>\n",
       "      <td>2232.0</td>\n",
       "      <td>0.002240</td>\n",
       "      <td>0.047288</td>\n",
       "      <td>0.00</td>\n",
       "      <td>0.00000</td>\n",
       "      <td>0.000</td>\n",
       "      <td>0.00000</td>\n",
       "      <td>1.000</td>\n",
       "    </tr>\n",
       "    <tr>\n",
       "      <th>weather_Unknown</th>\n",
       "      <td>2232.0</td>\n",
       "      <td>0.002688</td>\n",
       "      <td>0.051789</td>\n",
       "      <td>0.00</td>\n",
       "      <td>0.00000</td>\n",
       "      <td>0.000</td>\n",
       "      <td>0.00000</td>\n",
       "      <td>1.000</td>\n",
       "    </tr>\n",
       "  </tbody>\n",
       "</table>\n",
       "</div>"
      ],
      "text/plain": [
       "                  count       mean        std   min     2.5%     50%  \\\n",
       "dow              2232.0   1.991935   1.415458  0.00  0.00000   2.000   \n",
       "hr               2232.0   5.500000   7.933780  0.00  0.00000   2.500   \n",
       "temp             2232.0  16.026438   5.380406 -2.57  3.17875  16.935   \n",
       "rain_1h          2232.0   0.099628   0.603634  0.00  0.00000   0.000   \n",
       "cloud_coverage   2232.0  29.178763  36.701417  0.00  0.00000   1.000   \n",
       "is_holiday       2232.0   0.037634   0.190353  0.00  0.00000   0.000   \n",
       "weather_Clear    2232.0   0.432348   0.495513  0.00  0.00000   0.000   \n",
       "weather_Clouds   2232.0   0.207885   0.405885  0.00  0.00000   0.000   \n",
       "weather_Haze     2232.0   0.010753   0.103159  0.00  0.00000   0.000   \n",
       "weather_Mist     2232.0   0.104391   0.305835  0.00  0.00000   0.000   \n",
       "weather_Other    2232.0   0.058244   0.234256  0.00  0.00000   0.000   \n",
       "weather_Rain     2232.0   0.181452   0.385478  0.00  0.00000   0.000   \n",
       "weather_Snow     2232.0   0.002240   0.047288  0.00  0.00000   0.000   \n",
       "weather_Unknown  2232.0   0.002688   0.051789  0.00  0.00000   0.000   \n",
       "\n",
       "                    97.5%      max  \n",
       "dow               4.00000    4.000  \n",
       "hr               23.00000   23.000  \n",
       "temp             24.47675   30.458  \n",
       "rain_1h           1.45125   10.920  \n",
       "cloud_coverage   90.00000  100.000  \n",
       "is_holiday        1.00000    1.000  \n",
       "weather_Clear     1.00000    1.000  \n",
       "weather_Clouds    1.00000    1.000  \n",
       "weather_Haze      0.00000    1.000  \n",
       "weather_Mist      1.00000    1.000  \n",
       "weather_Other     1.00000    1.000  \n",
       "weather_Rain      1.00000    1.000  \n",
       "weather_Snow      0.00000    1.000  \n",
       "weather_Unknown   0.00000    1.000  "
      ]
     },
     "execution_count": 14,
     "metadata": {},
     "output_type": "execute_result"
    }
   ],
   "source": [
    "working_hrs_df.describe(percentiles=[.025,.5,.975]).transpose()"
   ]
  },
  {
   "cell_type": "markdown",
   "metadata": {},
   "source": [
    "Each factor that's added to the sensitivity analysis simulation slows it down, so we will only take\n",
    "the top three; that is, `weather_Clear`, `weather_Clouds`, and `weather_Rain`. These factors are specified along with the other six factors into a \"problem\" dictionary (`morris_problem`), which has their corresponding names, bounds, and groups. Now, bounds is critical because it denotes what ranges of values will be simulated for each factor. We will use [0,4] (Monday – Friday) for dow and [−1,4] (11p.m. – 4a.m.) for hr. The filter function automatically translates negative hours into hours from the day before so that −1 on a Tuesday is equivalent to 23 on a Monday. The rest of the bounds were informed by the percentiles. Note that groups all have factors in the same group, except for the three weather ones:"
   ]
  },
  {
   "cell_type": "code",
   "execution_count": 15,
   "metadata": {},
   "outputs": [],
   "source": [
    "morris_problem = {\n",
    "    # There are nine variables\n",
    "    'num_vars': 9,\n",
    "    # These are their names\n",
    "    'names': ['dow', 'hr', 'temp', 'rain_1h',\\\n",
    "              'cloud_coverage', 'is_holiday',\\\n",
    "              'weather_Clear', 'weather_Clouds',\\\n",
    "              'weather_Rain'],\n",
    "    # Plausible ranges over which we'll move the variables\n",
    "    'bounds': [[0, 4], # dow\n",
    "               [-1, 4], # hr\n",
    "               [3., 25.], # temp (C)\n",
    "               [0., 1.5], # rain_1h\n",
    "               [0., 90.], # cloud_coverage\n",
    "               [0, 1], # is_holiday\n",
    "               [0, 1], # weather_Clear \n",
    "               [0, 1], # weather_Clouds \n",
    "               [0, 1] # weather_Rain\n",
    "              ],\n",
    "    # Only weather is grouped together\n",
    "    'groups': ['dow', 'hr', 'temp', 'rain_1h',\\\n",
    "              'cloud_coverage', 'is_holiday',\\\n",
    "               'weather', 'weather', 'weather']\n",
    "}"
   ]
  },
  {
   "cell_type": "markdown",
   "metadata": {},
   "source": [
    "### 3.2) Prepare Morris Samples"
   ]
  },
  {
   "cell_type": "markdown",
   "metadata": {},
   "source": [
    "In addition to the dictionary, it takes a number of trajectories (`300`) and levels (`num_levels=4`). The method uses a grid with factors and levels to construct the trajectories for which inputs are randomly moved **one-at-a-time** (OAT). What is important to heed here is that more levels add more resolution to this grid, potentially making for a better analysis. However, this can be very time-consuming."
   ]
  },
  {
   "cell_type": "code",
   "execution_count": 16,
   "metadata": {},
   "outputs": [
    {
     "name": "stdout",
     "output_type": "stream",
     "text": [
      "(2400, 9)\n"
     ]
    }
   ],
   "source": [
    "morris_sample = ms.sample(morris_problem, 300,\\\n",
    "                          num_levels=4, seed=rand)\n",
    "print(morris_sample.shape)"
   ]
  },
  {
   "cell_type": "markdown",
   "metadata": {},
   "source": [
    "Given that the predict function will only work with 14 factors, we should modify the samples to fill the remaining five factors with zeroes. We use zeroes because that is the median value for these features. "
   ]
  },
  {
   "cell_type": "code",
   "execution_count": 17,
   "metadata": {},
   "outputs": [
    {
     "name": "stdout",
     "output_type": "stream",
     "text": [
      "(2400, 14)\n"
     ]
    }
   ],
   "source": [
    "morris_sample_mod = np.hstack((morris_sample[:,0:8],\\\n",
    "                       np.zeros((morris_sample.shape[0],3)),\\\n",
    "                       morris_sample[:,8:9],\\\n",
    "                       np.zeros((morris_sample.shape[0],2))))\n",
    "print(morris_sample_mod.shape)"
   ]
  },
  {
   "cell_type": "markdown",
   "metadata": {},
   "source": [
    "### 3.3) Generate Approximate Predictions on Samples"
   ]
  },
  {
   "cell_type": "markdown",
   "metadata": {},
   "source": [
    "Same as before with SHAP:"
   ]
  },
  {
   "cell_type": "code",
   "execution_count": 18,
   "metadata": {},
   "outputs": [
    {
     "data": {
      "application/vnd.jupyter.widget-view+json": {
       "model_id": "f9bd47cbfb4e485e89c9c3666e64cba6",
       "version_major": 2,
       "version_minor": 0
      },
      "text/plain": [
       "HBox(children=(HTML(value='Predicting'), FloatProgress(value=0.0, max=2400.0), HTML(value='')))"
      ]
     },
     "metadata": {},
     "output_type": "display_data"
    },
    {
     "name": "stdout",
     "output_type": "stream",
     "text": [
      "\n",
      "CPU times: user 59min 26s, sys: 40min 49s, total: 1h 40min 16s\n",
      "Wall time: 25min 1s\n"
     ]
    }
   ],
   "source": [
    "%%time\n",
    "morris_preds = mldatasets.\\\n",
    "                    approx_predict_ts(morris_sample_mod, X_df, gen_all,\\\n",
    "                              lstm_traffic_mdl, filt_fn=filt_fn,\\\n",
    "                              dist_metric=heom_dist.heom, lookback=lookback,\n",
    "                              X_scaler=X_scaler, y_scaler=y_scaler,\\\n",
    "                              progress_bar=True)"
   ]
  },
  {
   "cell_type": "markdown",
   "metadata": {},
   "source": [
    "### 3.4) Computing Morris Sensitivity Indices"
   ]
  },
  {
   "cell_type": "markdown",
   "metadata": {},
   "source": [
    "To produce a sensitivity analysis with SALib's analyze function, all you need is your\n",
    "problem dictionary (`morris_problem`), the original Morris samples (`morris_sample`), and the predictions we just produced with those samples (`morris_preds`). There's an optional confidence interval level argument (conf_level), but the default of 95 is good. "
   ]
  },
  {
   "cell_type": "code",
   "execution_count": 19,
   "metadata": {},
   "outputs": [
    {
     "name": "stdout",
     "output_type": "stream",
     "text": [
      "CPU times: user 13 ms, sys: 1.69 ms, total: 14.7 ms\n",
      "Wall time: 13.1 ms\n"
     ]
    }
   ],
   "source": [
    "%%time\n",
    "morris_sensitivities = ma.analyze(morris_problem, morris_sample,\\\n",
    "                                  morris_preds, print_to_console=False)"
   ]
  },
  {
   "cell_type": "markdown",
   "metadata": {},
   "source": [
    "### 3.3) Analyzing the Elementary Effects"
   ]
  },
  {
   "cell_type": "markdown",
   "metadata": {},
   "source": [
    "`analyze` will return a dictionary with the Morris sensitivity indices, including the mean (𝜇) and standard deviation (𝜎) elementary effect, as well as the absolute value of the mean (𝜇∗). It's easier to appreciate these values in a tabular format so that we can place them into a DataFrame and sort and color-code them according to 𝜇∗, which can be interpreted as the overall importance of the factor. 𝜎, on the other hand, is how much the factor interacts with other ones."
   ]
  },
  {
   "cell_type": "markdown",
   "metadata": {},
   "source": [
    "You can tell that `is_holiday` surprisingly becomes the second-most important factor although not by a huge margin, at least during the bounds specified in the problem definition (`morris_problem`). Another thing to note is that weather does have an absolute mean elementary effect but inconclusive interaction effects. Groups are challenging to assess, especially when they are sparse binary factors:"
   ]
  },
  {
   "cell_type": "code",
   "execution_count": 20,
   "metadata": {},
   "outputs": [
    {
     "data": {
      "text/html": [
       "<style  type=\"text/css\" >\n",
       "    #T_98777d20_a09c_11eb_b80f_acde48001122row0_col2 {\n",
       "            background-color:  #f0f921;\n",
       "            color:  #000000;\n",
       "        }    #T_98777d20_a09c_11eb_b80f_acde48001122row1_col2 {\n",
       "            background-color:  #7e03a8;\n",
       "            color:  #f1f1f1;\n",
       "        }    #T_98777d20_a09c_11eb_b80f_acde48001122row2_col2 {\n",
       "            background-color:  #7201a8;\n",
       "            color:  #f1f1f1;\n",
       "        }    #T_98777d20_a09c_11eb_b80f_acde48001122row3_col2 {\n",
       "            background-color:  #4e02a2;\n",
       "            color:  #f1f1f1;\n",
       "        }    #T_98777d20_a09c_11eb_b80f_acde48001122row4_col2 {\n",
       "            background-color:  #260591;\n",
       "            color:  #f1f1f1;\n",
       "        }    #T_98777d20_a09c_11eb_b80f_acde48001122row5_col2 {\n",
       "            background-color:  #130789;\n",
       "            color:  #f1f1f1;\n",
       "        }    #T_98777d20_a09c_11eb_b80f_acde48001122row6_col2 {\n",
       "            background-color:  #0d0887;\n",
       "            color:  #f1f1f1;\n",
       "        }</style><table id=\"T_98777d20_a09c_11eb_b80f_acde48001122\" ><thead>    <tr>        <th class=\"blank level0\" ></th>        <th class=\"col_heading level0 col0\" >features</th>        <th class=\"col_heading level0 col1\" >μ</th>        <th class=\"col_heading level0 col2\" >μ*</th>        <th class=\"col_heading level0 col3\" >σ</th>    </tr></thead><tbody>\n",
       "                <tr>\n",
       "                        <th id=\"T_98777d20_a09c_11eb_b80f_acde48001122level0_row0\" class=\"row_heading level0 row0\" >1</th>\n",
       "                        <td id=\"T_98777d20_a09c_11eb_b80f_acde48001122row0_col0\" class=\"data row0 col0\" >hr</td>\n",
       "                        <td id=\"T_98777d20_a09c_11eb_b80f_acde48001122row0_col1\" class=\"data row0 col1\" >-429.300049</td>\n",
       "                        <td id=\"T_98777d20_a09c_11eb_b80f_acde48001122row0_col2\" class=\"data row0 col2\" >1455.506958</td>\n",
       "                        <td id=\"T_98777d20_a09c_11eb_b80f_acde48001122row0_col3\" class=\"data row0 col3\" >1544.544312</td>\n",
       "            </tr>\n",
       "            <tr>\n",
       "                        <th id=\"T_98777d20_a09c_11eb_b80f_acde48001122level0_row1\" class=\"row_heading level0 row1\" >5</th>\n",
       "                        <td id=\"T_98777d20_a09c_11eb_b80f_acde48001122row1_col0\" class=\"data row1 col0\" >is_holiday</td>\n",
       "                        <td id=\"T_98777d20_a09c_11eb_b80f_acde48001122row1_col1\" class=\"data row1 col1\" >-345.794891</td>\n",
       "                        <td id=\"T_98777d20_a09c_11eb_b80f_acde48001122row1_col2\" class=\"data row1 col2\" >379.520508</td>\n",
       "                        <td id=\"T_98777d20_a09c_11eb_b80f_acde48001122row1_col3\" class=\"data row1 col3\" >588.769958</td>\n",
       "            </tr>\n",
       "            <tr>\n",
       "                        <th id=\"T_98777d20_a09c_11eb_b80f_acde48001122level0_row2\" class=\"row_heading level0 row2\" >0</th>\n",
       "                        <td id=\"T_98777d20_a09c_11eb_b80f_acde48001122row2_col0\" class=\"data row2 col0\" >dow</td>\n",
       "                        <td id=\"T_98777d20_a09c_11eb_b80f_acde48001122row2_col1\" class=\"data row2 col1\" >130.311508</td>\n",
       "                        <td id=\"T_98777d20_a09c_11eb_b80f_acde48001122row2_col2\" class=\"data row2 col2\" >336.568512</td>\n",
       "                        <td id=\"T_98777d20_a09c_11eb_b80f_acde48001122row2_col3\" class=\"data row2 col3\" >554.439880</td>\n",
       "            </tr>\n",
       "            <tr>\n",
       "                        <th id=\"T_98777d20_a09c_11eb_b80f_acde48001122level0_row3\" class=\"row_heading level0 row3\" >2</th>\n",
       "                        <td id=\"T_98777d20_a09c_11eb_b80f_acde48001122row3_col0\" class=\"data row3 col0\" >temp</td>\n",
       "                        <td id=\"T_98777d20_a09c_11eb_b80f_acde48001122row3_col1\" class=\"data row3 col1\" >62.087788</td>\n",
       "                        <td id=\"T_98777d20_a09c_11eb_b80f_acde48001122row3_col2\" class=\"data row3 col2\" >202.984299</td>\n",
       "                        <td id=\"T_98777d20_a09c_11eb_b80f_acde48001122row3_col3\" class=\"data row3 col3\" >422.309845</td>\n",
       "            </tr>\n",
       "            <tr>\n",
       "                        <th id=\"T_98777d20_a09c_11eb_b80f_acde48001122level0_row4\" class=\"row_heading level0 row4\" >6</th>\n",
       "                        <td id=\"T_98777d20_a09c_11eb_b80f_acde48001122row4_col0\" class=\"data row4 col0\" >weather</td>\n",
       "                        <td id=\"T_98777d20_a09c_11eb_b80f_acde48001122row4_col1\" class=\"data row4 col1\" >nan</td>\n",
       "                        <td id=\"T_98777d20_a09c_11eb_b80f_acde48001122row4_col2\" class=\"data row4 col2\" >75.732869</td>\n",
       "                        <td id=\"T_98777d20_a09c_11eb_b80f_acde48001122row4_col3\" class=\"data row4 col3\" >nan</td>\n",
       "            </tr>\n",
       "            <tr>\n",
       "                        <th id=\"T_98777d20_a09c_11eb_b80f_acde48001122level0_row5\" class=\"row_heading level0 row5\" >3</th>\n",
       "                        <td id=\"T_98777d20_a09c_11eb_b80f_acde48001122row5_col0\" class=\"data row5 col0\" >rain_1h</td>\n",
       "                        <td id=\"T_98777d20_a09c_11eb_b80f_acde48001122row5_col1\" class=\"data row5 col1\" >-2.807382</td>\n",
       "                        <td id=\"T_98777d20_a09c_11eb_b80f_acde48001122row5_col2\" class=\"data row5 col2\" >30.730104</td>\n",
       "                        <td id=\"T_98777d20_a09c_11eb_b80f_acde48001122row5_col3\" class=\"data row5 col3\" >113.262093</td>\n",
       "            </tr>\n",
       "            <tr>\n",
       "                        <th id=\"T_98777d20_a09c_11eb_b80f_acde48001122level0_row6\" class=\"row_heading level0 row6\" >4</th>\n",
       "                        <td id=\"T_98777d20_a09c_11eb_b80f_acde48001122row6_col0\" class=\"data row6 col0\" >cloud_coverage</td>\n",
       "                        <td id=\"T_98777d20_a09c_11eb_b80f_acde48001122row6_col1\" class=\"data row6 col1\" >9.897445</td>\n",
       "                        <td id=\"T_98777d20_a09c_11eb_b80f_acde48001122row6_col2\" class=\"data row6 col2\" >17.152800</td>\n",
       "                        <td id=\"T_98777d20_a09c_11eb_b80f_acde48001122row6_col3\" class=\"data row6 col3\" >74.320007</td>\n",
       "            </tr>\n",
       "    </tbody></table>"
      ],
      "text/plain": [
       "<pandas.io.formats.style.Styler at 0x7fc882a2f4c0>"
      ]
     },
     "execution_count": 20,
     "metadata": {},
     "output_type": "execute_result"
    }
   ],
   "source": [
    "morris_df = pd.DataFrame({'features':morris_sensitivities['names'],\\\n",
    "                          'μ':morris_sensitivities['mu'],\\\n",
    "                          'μ*':morris_sensitivities['mu_star'],\\\n",
    "                          'σ':morris_sensitivities['sigma']})\n",
    "morris_df.sort_values('μ*', ascending=False).style.\\\n",
    "    background_gradient(cmap='plasma', subset=['μ*'])"
   ]
  },
  {
   "cell_type": "markdown",
   "metadata": {},
   "source": [
    "The bar plot on the left ranks the factors by 𝜇∗, while the lines sticking out of each bar signify their corresponding confidence bands. The covariance plot to the right is a scatter plot with 𝜇∗ on the x-axis and 𝜎 on the y-axis. Therefore, the farther right the point is, the more important it is, while the further up it is in the plot, the more it interacts with other factors and becomes increasingly less monotonic. Naturally, this means that factors that don't interact much and are mostly monotonic ones comply with linear regression assumptions, such as linearity and multicollinearity. However, the spectrum between linear and non-linear or non-monotonic is determined diagonally by the ratio between 𝜎 and 𝜇∗:"
   ]
  },
  {
   "cell_type": "code",
   "execution_count": 21,
   "metadata": {},
   "outputs": [
    {
     "data": {
      "image/png": "[encoded data removed]",
      "text/plain": [
       "<Figure size 864x576 with 2 Axes>"
      ]
     },
     "metadata": {
      "needs_background": "light"
     },
     "output_type": "display_data"
    }
   ],
   "source": [
    "fig, (ax0, ax1) = plt.subplots(1,2, figsize=(12,8))\n",
    "mp.horizontal_bar_plot(ax0, morris_sensitivities, {})\n",
    "mp.covariance_plot(ax1, morris_sensitivities, {})\n",
    "ax1.text(ax1.get_xlim()[1]*0.45, ax1.get_ylim()[1]*0.75,\\\n",
    "         'Non-linear and/or\\nNon-monotonic',\\\n",
    "         horizontalalignment='center', color='gray')\n",
    "ax1.text(ax1.get_xlim()[1]*0.75, ax1.get_ylim()[1]*0.5,\\\n",
    "         'Almost\\nMonotonic', horizontalalignment='center',\\\n",
    "         color='gray')\n",
    "ax1.text(ax1.get_xlim()[1]*0.83, ax1.get_ylim()[1]*0.2,\\\n",
    "         'Monotonic', horizontalalignment='center', color='gray')\n",
    "ax1.text(ax1.get_xlim()[1]*0.9, ax1.get_ylim()[1]*0.025,\\\n",
    "         'Linear', horizontalalignment='center', color='gray')\n",
    "plt.show()"
   ]
  },
  {
   "cell_type": "markdown",
   "metadata": {},
   "source": [
    "Elementary effects help us understand how to classify our factors in accordance with their effects on model outcomes. However, it's not a robust method to properly quantify their effects or those derived from factor interactions. For that, we would have to turn to a variance-based global method that uses a probabilistic framework to decompose the output's variance and trace it back to the inputs."
   ]
  },
  {
   "cell_type": "markdown",
   "metadata": {},
   "source": [
    "## 4) Quantifying Uncertainty and Cost-Sensitivity with Factor Fixing"
   ]
  },
  {
   "cell_type": "markdown",
   "metadata": {},
   "source": [
    "Only variance-based methods can quantify these effects in a statistically rigorous fashion. Sobol Sensitivity Analysis is one of these methods, which means that it decomposes the model's output variance into percentages and attributes it to the model's inputs and interactions. Like Morris, it has a sampling step, as well as a sensitivity index estimation step."
   ]
  },
  {
   "cell_type": "markdown",
   "metadata": {},
   "source": [
    "Unlike Morris, the sampling doesn't follow a series of levels but the input data's distribution. It uses a quasi-Monte Carlo method, where it samples points in hyperspace that follow the inputs' probability distributions. Monte Carlo methods are a family of algorithms that perform random sampling, often for optimization or simulation. They seek to cut corners on problems that would be impossible to solve with brute force or entirely deterministic approaches. Monte Carlo methods are common in sensitivity analysis precisely for this reason. Quasi-Monte Carlo methods have the same goal. However, they converge faster because they use a deterministic low-discrepancy sequence instead of using a pseudorandom one. The Sobol method uses the Sobol sequence, devised by the same mathematician. We will use another sampling scheme derived from Sobol's, called Saltelli's."
   ]
  },
  {
   "cell_type": "markdown",
   "metadata": {},
   "source": [
    "### 3.1) Define Problem"
   ]
  },
  {
   "cell_type": "markdown",
   "metadata": {},
   "source": [
    "Just as we did with Morris but with expanded bounds and less factors:"
   ]
  },
  {
   "cell_type": "code",
   "execution_count": 22,
   "metadata": {},
   "outputs": [],
   "source": [
    "sobol_problem = {\n",
    "    'num_vars': 7,\n",
    "    'names': ['dow', 'hr', 'temp', 'rain_1h',\\\n",
    "              'cloud_coverage', 'is_holiday',\\\n",
    "              'weather_Clear'],\n",
    "    'bounds': [[0, 4], # dow\n",
    "               [-1, 4], # hr\n",
    "               [-3., 31.], # temp (C)\n",
    "               [0., 11.], # rain_1h\n",
    "               [0., 100.], # cloud_coverage\n",
    "               [0, 1], # is_holiday\n",
    "               [0, 1] # weather_Clear\n",
    "              ],\n",
    "    'groups': None\n",
    "}"
   ]
  },
  {
   "cell_type": "markdown",
   "metadata": {},
   "source": [
    "### 3.2) Prepare Salteli Samples"
   ]
  },
  {
   "cell_type": "markdown",
   "metadata": {},
   "source": [
    "Just as we did with Morris but with `calc_second_order=True`:"
   ]
  },
  {
   "cell_type": "code",
   "execution_count": 23,
   "metadata": {},
   "outputs": [
    {
     "name": "stdout",
     "output_type": "stream",
     "text": [
      "(4800, 14)\n"
     ]
    }
   ],
   "source": [
    "saltelli_sample = ss.sample(sobol_problem, 300, calc_second_order=True,\\\n",
    "                     seed=rand)\n",
    "saltelli_sample_mod = np.hstack((saltelli_sample,\\\n",
    "                       np.zeros((saltelli_sample.shape[0],7))))\n",
    "print(saltelli_sample_mod.shape)"
   ]
  },
  {
   "cell_type": "markdown",
   "metadata": {},
   "source": [
    "### 3.3) Generate Approximate Predictions on Samples"
   ]
  },
  {
   "cell_type": "markdown",
   "metadata": {},
   "source": [
    "Just as we did with Morris:"
   ]
  },
  {
   "cell_type": "code",
   "execution_count": 24,
   "metadata": {},
   "outputs": [
    {
     "data": {
      "application/vnd.jupyter.widget-view+json": {
       "model_id": "0b94b06ab79849d5bf69ba98bad317a5",
       "version_major": 2,
       "version_minor": 0
      },
      "text/plain": [
       "HBox(children=(HTML(value='Predicting'), FloatProgress(value=0.0, max=4800.0), HTML(value='')))"
      ]
     },
     "metadata": {},
     "output_type": "display_data"
    },
    {
     "name": "stdout",
     "output_type": "stream",
     "text": [
      "\n",
      "CPU times: user 1h 49min 15s, sys: 1h 15min 1s, total: 3h 4min 17s\n",
      "Wall time: 44min 1s\n"
     ]
    }
   ],
   "source": [
    "%%time\n",
    "saltelli_preds = mldatasets.\\\n",
    "                    approx_predict_ts(saltelli_sample_mod, X_df, gen_all,\\\n",
    "                              lstm_traffic_mdl, filt_fn=filt_fn,\\\n",
    "                              dist_metric=heom_dist.heom, lookback=lookback,\n",
    "                              X_scaler=X_scaler, y_scaler=y_scaler,\\\n",
    "                              progress_bar=True)"
   ]
  },
  {
   "cell_type": "markdown",
   "metadata": {},
   "source": [
    "### 3.4) Performing a Sobol Sensitivity Analysis"
   ]
  },
  {
   "cell_type": "markdown",
   "metadata": {},
   "source": [
    "Sure, there's variance in the predicted traffic, but that traffic is only a problem once it exceeds 1,500. Uncertainty is something you want to relate to risk or reward, costs or revenue, loss or profit – something tangible you can connect to your problem. Let's make sure that the highest traffic prediction with the samples exceeds this amount:"
   ]
  },
  {
   "cell_type": "code",
   "execution_count": 25,
   "metadata": {},
   "outputs": [
    {
     "name": "stdout",
     "output_type": "stream",
     "text": [
      "1879.7686\n"
     ]
    }
   ],
   "source": [
    "print(max(saltelli_preds[:,0]))"
   ]
  },
  {
   "cell_type": "markdown",
   "metadata": {},
   "source": [
    "Instead of using the predictions (`saltelli_preds`) as the model's output, we can create a simple binary array with ones when it exceeded 1,500 and zero otherwise. We will call this costs, and then run the `analyze` function with it. Note that `calc_second_order=True` is also set here too. "
   ]
  },
  {
   "cell_type": "code",
   "execution_count": 26,
   "metadata": {},
   "outputs": [
    {
     "name": "stdout",
     "output_type": "stream",
     "text": [
      "CPU times: user 38.7 ms, sys: 1.11 ms, total: 39.8 ms\n",
      "Wall time: 38.7 ms\n"
     ]
    }
   ],
   "source": [
    "%%time\n",
    "costs = np.where(saltelli_preds > 1500, 1,0)[:,0]\n",
    "factor_fixing_sa = sa.analyze(sobol_problem, costs,\\\n",
    "                      calc_second_order=True, print_to_console=False)"
   ]
  },
  {
   "cell_type": "markdown",
   "metadata": {},
   "source": [
    "`analyze` will return a dictionary with the Sobol sensitivity indices, including the first- order (S1), second-order (S2), and total-order (ST) indices, as well as the total confidence bounds (ST_conf). The indices correspond to percentages, but the totals won't necessarily add up unless the model is additive."
   ]
  },
  {
   "cell_type": "code",
   "execution_count": 27,
   "metadata": {},
   "outputs": [
    {
     "data": {
      "text/html": [
       "<style  type=\"text/css\" >\n",
       "    #T_17264e7a_a0a3_11eb_b80f_acde48001122row0_col2 {\n",
       "            background-color:  #f0f921;\n",
       "            color:  #000000;\n",
       "        }    #T_17264e7a_a0a3_11eb_b80f_acde48001122row1_col2 {\n",
       "            background-color:  #db5c68;\n",
       "            color:  #000000;\n",
       "        }    #T_17264e7a_a0a3_11eb_b80f_acde48001122row2_col2 {\n",
       "            background-color:  #b83289;\n",
       "            color:  #f1f1f1;\n",
       "        }    #T_17264e7a_a0a3_11eb_b80f_acde48001122row3_col2 {\n",
       "            background-color:  #b83289;\n",
       "            color:  #f1f1f1;\n",
       "        }    #T_17264e7a_a0a3_11eb_b80f_acde48001122row4_col2 {\n",
       "            background-color:  #5302a3;\n",
       "            color:  #f1f1f1;\n",
       "        }    #T_17264e7a_a0a3_11eb_b80f_acde48001122row5_col2 {\n",
       "            background-color:  #0d0887;\n",
       "            color:  #f1f1f1;\n",
       "        }    #T_17264e7a_a0a3_11eb_b80f_acde48001122row6_col2 {\n",
       "            background-color:  #0d0887;\n",
       "            color:  #f1f1f1;\n",
       "        }</style><table id=\"T_17264e7a_a0a3_11eb_b80f_acde48001122\" ><thead>    <tr>        <th class=\"blank level0\" ></th>        <th class=\"col_heading level0 col0\" >features</th>        <th class=\"col_heading level0 col1\" >1st</th>        <th class=\"col_heading level0 col2\" >Total</th>        <th class=\"col_heading level0 col3\" >Total Conf</th>        <th class=\"col_heading level0 col4\" >Mean of Input</th>    </tr></thead><tbody>\n",
       "                <tr>\n",
       "                        <th id=\"T_17264e7a_a0a3_11eb_b80f_acde48001122level0_row0\" class=\"row_heading level0 row0\" >1</th>\n",
       "                        <td id=\"T_17264e7a_a0a3_11eb_b80f_acde48001122row0_col0\" class=\"data row0 col0\" >hr</td>\n",
       "                        <td id=\"T_17264e7a_a0a3_11eb_b80f_acde48001122row0_col1\" class=\"data row0 col1\" >0.009185</td>\n",
       "                        <td id=\"T_17264e7a_a0a3_11eb_b80f_acde48001122row0_col2\" class=\"data row0 col2\" >0.886824</td>\n",
       "                        <td id=\"T_17264e7a_a0a3_11eb_b80f_acde48001122row0_col3\" class=\"data row0 col3\" >0.912979</td>\n",
       "                        <td id=\"T_17264e7a_a0a3_11eb_b80f_acde48001122row0_col4\" class=\"data row0 col4\" >1.495931</td>\n",
       "            </tr>\n",
       "            <tr>\n",
       "                        <th id=\"T_17264e7a_a0a3_11eb_b80f_acde48001122level0_row1\" class=\"row_heading level0 row1\" >2</th>\n",
       "                        <td id=\"T_17264e7a_a0a3_11eb_b80f_acde48001122row1_col0\" class=\"data row1 col0\" >temp</td>\n",
       "                        <td id=\"T_17264e7a_a0a3_11eb_b80f_acde48001122row1_col1\" class=\"data row1 col1\" >0.006123</td>\n",
       "                        <td id=\"T_17264e7a_a0a3_11eb_b80f_acde48001122row1_col2\" class=\"data row1 col2\" >0.506757</td>\n",
       "                        <td id=\"T_17264e7a_a0a3_11eb_b80f_acde48001122row1_col3\" class=\"data row1 col3\" >0.660847</td>\n",
       "                        <td id=\"T_17264e7a_a0a3_11eb_b80f_acde48001122row1_col4\" class=\"data row1 col4\" >14.059766</td>\n",
       "            </tr>\n",
       "            <tr>\n",
       "                        <th id=\"T_17264e7a_a0a3_11eb_b80f_acde48001122level0_row2\" class=\"row_heading level0 row2\" >0</th>\n",
       "                        <td id=\"T_17264e7a_a0a3_11eb_b80f_acde48001122row2_col0\" class=\"data row2 col0\" >dow</td>\n",
       "                        <td id=\"T_17264e7a_a0a3_11eb_b80f_acde48001122row2_col1\" class=\"data row2 col1\" >0.009185</td>\n",
       "                        <td id=\"T_17264e7a_a0a3_11eb_b80f_acde48001122row2_col2\" class=\"data row2 col2\" >0.380068</td>\n",
       "                        <td id=\"T_17264e7a_a0a3_11eb_b80f_acde48001122row2_col3\" class=\"data row2 col3\" >0.366337</td>\n",
       "                        <td id=\"T_17264e7a_a0a3_11eb_b80f_acde48001122row2_col4\" class=\"data row2 col4\" >1.995599</td>\n",
       "            </tr>\n",
       "            <tr>\n",
       "                        <th id=\"T_17264e7a_a0a3_11eb_b80f_acde48001122level0_row3\" class=\"row_heading level0 row3\" >5</th>\n",
       "                        <td id=\"T_17264e7a_a0a3_11eb_b80f_acde48001122row3_col0\" class=\"data row3 col0\" >is_holiday</td>\n",
       "                        <td id=\"T_17264e7a_a0a3_11eb_b80f_acde48001122row3_col1\" class=\"data row3 col1\" >0.003062</td>\n",
       "                        <td id=\"T_17264e7a_a0a3_11eb_b80f_acde48001122row3_col2\" class=\"data row3 col2\" >0.380068</td>\n",
       "                        <td id=\"T_17264e7a_a0a3_11eb_b80f_acde48001122row3_col3\" class=\"data row3 col3\" >0.479628</td>\n",
       "                        <td id=\"T_17264e7a_a0a3_11eb_b80f_acde48001122row3_col4\" class=\"data row3 col4\" >0.498047</td>\n",
       "            </tr>\n",
       "            <tr>\n",
       "                        <th id=\"T_17264e7a_a0a3_11eb_b80f_acde48001122level0_row4\" class=\"row_heading level0 row4\" >6</th>\n",
       "                        <td id=\"T_17264e7a_a0a3_11eb_b80f_acde48001122row4_col0\" class=\"data row4 col0\" >weather_Clear</td>\n",
       "                        <td id=\"T_17264e7a_a0a3_11eb_b80f_acde48001122row4_col1\" class=\"data row4 col1\" >-0.003062</td>\n",
       "                        <td id=\"T_17264e7a_a0a3_11eb_b80f_acde48001122row4_col2\" class=\"data row4 col2\" >0.126689</td>\n",
       "                        <td id=\"T_17264e7a_a0a3_11eb_b80f_acde48001122row4_col3\" class=\"data row4 col3\" >0.314201</td>\n",
       "                        <td id=\"T_17264e7a_a0a3_11eb_b80f_acde48001122row4_col4\" class=\"data row4 col4\" >0.499023</td>\n",
       "            </tr>\n",
       "            <tr>\n",
       "                        <th id=\"T_17264e7a_a0a3_11eb_b80f_acde48001122level0_row5\" class=\"row_heading level0 row5\" >3</th>\n",
       "                        <td id=\"T_17264e7a_a0a3_11eb_b80f_acde48001122row5_col0\" class=\"data row5 col0\" >rain_1h</td>\n",
       "                        <td id=\"T_17264e7a_a0a3_11eb_b80f_acde48001122row5_col1\" class=\"data row5 col1\" >0.000000</td>\n",
       "                        <td id=\"T_17264e7a_a0a3_11eb_b80f_acde48001122row5_col2\" class=\"data row5 col2\" >0.000000</td>\n",
       "                        <td id=\"T_17264e7a_a0a3_11eb_b80f_acde48001122row5_col3\" class=\"data row5 col3\" >0.000000</td>\n",
       "                        <td id=\"T_17264e7a_a0a3_11eb_b80f_acde48001122row5_col4\" class=\"data row5 col4\" >5.511458</td>\n",
       "            </tr>\n",
       "            <tr>\n",
       "                        <th id=\"T_17264e7a_a0a3_11eb_b80f_acde48001122level0_row6\" class=\"row_heading level0 row6\" >4</th>\n",
       "                        <td id=\"T_17264e7a_a0a3_11eb_b80f_acde48001122row6_col0\" class=\"data row6 col0\" >cloud_coverage</td>\n",
       "                        <td id=\"T_17264e7a_a0a3_11eb_b80f_acde48001122row6_col1\" class=\"data row6 col1\" >0.000000</td>\n",
       "                        <td id=\"T_17264e7a_a0a3_11eb_b80f_acde48001122row6_col2\" class=\"data row6 col2\" >0.000000</td>\n",
       "                        <td id=\"T_17264e7a_a0a3_11eb_b80f_acde48001122row6_col3\" class=\"data row6 col3\" >0.000000</td>\n",
       "                        <td id=\"T_17264e7a_a0a3_11eb_b80f_acde48001122row6_col4\" class=\"data row6 col4\" >50.024740</td>\n",
       "            </tr>\n",
       "    </tbody></table>"
      ],
      "text/plain": [
       "<pandas.io.formats.style.Styler at 0x7fc8a2562940>"
      ]
     },
     "execution_count": 27,
     "metadata": {},
     "output_type": "execute_result"
    }
   ],
   "source": [
    "sobol_df = pd.DataFrame({'features':sobol_problem['names'],\\\n",
    "                          '1st':factor_fixing_sa['S1'],\\\n",
    "                          'Total':factor_fixing_sa['ST'],\\\n",
    "                          'Total Conf':factor_fixing_sa['ST_conf'],\\\n",
    "                          'Mean of Input':saltelli_sample.mean(axis=0)[0:7]})\n",
    "sobol_df.sort_values('Total', ascending=False).style.\\\n",
    "    background_gradient(cmap='plasma', subset=['Total'])"
   ]
  },
  {
   "cell_type": "markdown",
   "metadata": {},
   "source": [
    "You can tell that `temp` and `is_holiday` are in the top four, at least during the bounds specified in the problem definition (`sobol_problem`). Another thing to note is that `weather_Clear` does have more of an effect on its own, but `rain_1h` and `cloud_coverage` seem to have no effect on the potential cost."
   ]
  },
  {
   "cell_type": "markdown",
   "metadata": {},
   "source": [
    "Something interesting about the first-order values is how low they are, suggesting that interactions account for most of the model output variance. We can easily produce a heatmap with second-order indices to corroborate this. It's the combination of these indices and the first-order ones that add up to the totals."
   ]
  },
  {
   "cell_type": "code",
   "execution_count": 28,
   "metadata": {},
   "outputs": [
    {
     "data": {
      "image/png": "[encoded data removed]",
      "text/plain": [
       "<Figure size 432x360 with 2 Axes>"
      ]
     },
     "metadata": {
      "needs_background": "light"
     },
     "output_type": "display_data"
    }
   ],
   "source": [
    "plt.figure(figsize=(6, 5))\n",
    "sns.heatmap(factor_fixing_sa['S2'], cmap='Blues',\\\n",
    "            xticklabels=sobol_problem['names'],\\\n",
    "            yticklabels=sobol_problem['names'])\n",
    "plt.show()"
   ]
  },
  {
   "cell_type": "markdown",
   "metadata": {},
   "source": [
    "Here, you can tell that `is_holiday` and `hr` are the two factors that contribute the most to the output variance. `hr` has sizable interactions with all the factors except `temp`, but `dow` does so with `hr` and `temp`."
   ]
  },
  {
   "cell_type": "markdown",
   "metadata": {},
   "source": [
    "### 3.5) Incorporating a Realistic Cost Function"
   ]
  },
  {
   "cell_type": "markdown",
   "metadata": {},
   "source": [
    "Now, we can create a cost function that takes our inputs (saltelli_sample) and outputs (saltelli_preds) and computes how much the twin cities would fine the construction company, plus any additional costs the additional traffic could produce. It is better to do this if both the input and outputs are in the same array because we will need details from both to calculate the costs. "
   ]
  },
  {
   "cell_type": "code",
   "execution_count": 29,
   "metadata": {},
   "outputs": [],
   "source": [
    "#Join input and outputs into a sample+prediction array\n",
    "saltelli_sample_preds = np.hstack((saltelli_sample, saltelli_preds))"
   ]
  },
  {
   "cell_type": "markdown",
   "metadata": {},
   "source": [
    "We know that the half-capacity threshold wasn't exceeded for any sample predictions, so we won't even bother to include the daily penalty in the function. Besides that, the fines are \\\\$15 per vehicle that exceeds the hourly no-construction threshold. In addition to these fines, to be able to leave on time, the construction company estimates additional costs: \\\\$1,500 in extra wages if the threshold is exceeded at 4 a.m. and \\\\$4,500 more on Fridays to speed up the move of their equipment because it can't stay on the highway shoulder during weekends."
   ]
  },
  {
   "cell_type": "code",
   "execution_count": 30,
   "metadata": {},
   "outputs": [
    {
     "name": "stdout",
     "output_type": "stream",
     "text": [
      "119014.43481445312\n"
     ]
    }
   ],
   "source": [
    "#Define cost function\n",
    "def cost_fn(x):\n",
    "    cost = 0\n",
    "    if x[7] > 1500:\n",
    "        cost = (x[7] - 1500) * 15\n",
    "        if round(x[1]) == 4:\n",
    "            cost = cost + 1500\n",
    "            if round(x[0]) == 4:    \n",
    "                cost = cost + 4500\n",
    "    return cost\n",
    "\n",
    "#Use list comprehension to compute costs for sample+prediction array\n",
    "costs2 = np.array([cost_fn(xi) for xi in saltelli_sample_preds])\n",
    "\n",
    "#Print total fines for entire sample predictions\n",
    "print(sum(costs2)) "
   ]
  },
  {
   "cell_type": "markdown",
   "metadata": {},
   "source": [
    "The print statement should output a cost somewhere between \\\\$110-130 thousand. But not to worry! The construction crew only plans to work about 180 days on-site per year and 5 hours each day, for a total of 900 hours. However, there are 4,800 samples, which means that there's over 5 years' worth of predicted costs due to excess traffic. In any case, the point of calculating these costs is to figure out how they relate to the model's inputs. More years' worth of samples means tighter confidence intervals."
   ]
  },
  {
   "cell_type": "markdown",
   "metadata": {},
   "source": [
    "We can now perform the analysis again but with `costs2`, and we can save the analysis into a `factor_fixing2_sa` dictionary."
   ]
  },
  {
   "cell_type": "code",
   "execution_count": 31,
   "metadata": {},
   "outputs": [
    {
     "name": "stdout",
     "output_type": "stream",
     "text": [
      "CPU times: user 34.2 ms, sys: 659 µs, total: 34.8 ms\n",
      "Wall time: 34.3 ms\n"
     ]
    }
   ],
   "source": [
    "%%time\n",
    "factor_fixing2_sa = sa.analyze(sobol_problem, costs2,\\\n",
    "                       calc_second_order=True, print_to_console=False)"
   ]
  },
  {
   "cell_type": "markdown",
   "metadata": {},
   "source": [
    "As you can tell by the following image, once the actual costs have been factored in, `is_holiday` becomes the riskiest factor and `dow` becomes more important too, while the last three factors retain their positions from before."
   ]
  },
  {
   "cell_type": "code",
   "execution_count": 32,
   "metadata": {},
   "outputs": [
    {
     "data": {
      "text/html": [
       "<style  type=\"text/css\" >\n",
       "    #T_174cd5cc_a0a3_11eb_b80f_acde48001122row0_col2 {\n",
       "            background-color:  #f0f921;\n",
       "            color:  #000000;\n",
       "        }    #T_174cd5cc_a0a3_11eb_b80f_acde48001122row1_col2 {\n",
       "            background-color:  #fba139;\n",
       "            color:  #000000;\n",
       "        }    #T_174cd5cc_a0a3_11eb_b80f_acde48001122row2_col2 {\n",
       "            background-color:  #dd5e66;\n",
       "            color:  #000000;\n",
       "        }    #T_174cd5cc_a0a3_11eb_b80f_acde48001122row3_col2 {\n",
       "            background-color:  #d5536f;\n",
       "            color:  #000000;\n",
       "        }    #T_174cd5cc_a0a3_11eb_b80f_acde48001122row4_col2 {\n",
       "            background-color:  #4c02a1;\n",
       "            color:  #f1f1f1;\n",
       "        }    #T_174cd5cc_a0a3_11eb_b80f_acde48001122row5_col2 {\n",
       "            background-color:  #0d0887;\n",
       "            color:  #f1f1f1;\n",
       "        }    #T_174cd5cc_a0a3_11eb_b80f_acde48001122row6_col2 {\n",
       "            background-color:  #0d0887;\n",
       "            color:  #f1f1f1;\n",
       "        }</style><table id=\"T_174cd5cc_a0a3_11eb_b80f_acde48001122\" ><thead>    <tr>        <th class=\"blank level0\" ></th>        <th class=\"col_heading level0 col0\" >features</th>        <th class=\"col_heading level0 col1\" >1st</th>        <th class=\"col_heading level0 col2\" >Total</th>        <th class=\"col_heading level0 col3\" >Total Conf</th>        <th class=\"col_heading level0 col4\" >Mean of Input</th>    </tr></thead><tbody>\n",
       "                <tr>\n",
       "                        <th id=\"T_174cd5cc_a0a3_11eb_b80f_acde48001122level0_row0\" class=\"row_heading level0 row0\" >5</th>\n",
       "                        <td id=\"T_174cd5cc_a0a3_11eb_b80f_acde48001122row0_col0\" class=\"data row0 col0\" >is_holiday</td>\n",
       "                        <td id=\"T_174cd5cc_a0a3_11eb_b80f_acde48001122row0_col1\" class=\"data row0 col1\" >0.000852</td>\n",
       "                        <td id=\"T_174cd5cc_a0a3_11eb_b80f_acde48001122row0_col2\" class=\"data row0 col2\" >0.953683</td>\n",
       "                        <td id=\"T_174cd5cc_a0a3_11eb_b80f_acde48001122row0_col3\" class=\"data row0 col3\" >3.509316</td>\n",
       "                        <td id=\"T_174cd5cc_a0a3_11eb_b80f_acde48001122row0_col4\" class=\"data row0 col4\" >0.498047</td>\n",
       "            </tr>\n",
       "            <tr>\n",
       "                        <th id=\"T_174cd5cc_a0a3_11eb_b80f_acde48001122level0_row1\" class=\"row_heading level0 row1\" >1</th>\n",
       "                        <td id=\"T_174cd5cc_a0a3_11eb_b80f_acde48001122row1_col0\" class=\"data row1 col0\" >hr</td>\n",
       "                        <td id=\"T_174cd5cc_a0a3_11eb_b80f_acde48001122row1_col1\" class=\"data row1 col1\" >0.010101</td>\n",
       "                        <td id=\"T_174cd5cc_a0a3_11eb_b80f_acde48001122row1_col2\" class=\"data row1 col2\" >0.748595</td>\n",
       "                        <td id=\"T_174cd5cc_a0a3_11eb_b80f_acde48001122row1_col3\" class=\"data row1 col3\" >1.132662</td>\n",
       "                        <td id=\"T_174cd5cc_a0a3_11eb_b80f_acde48001122row1_col4\" class=\"data row1 col4\" >1.495931</td>\n",
       "            </tr>\n",
       "            <tr>\n",
       "                        <th id=\"T_174cd5cc_a0a3_11eb_b80f_acde48001122level0_row2\" class=\"row_heading level0 row2\" >2</th>\n",
       "                        <td id=\"T_174cd5cc_a0a3_11eb_b80f_acde48001122row2_col0\" class=\"data row2 col0\" >temp</td>\n",
       "                        <td id=\"T_174cd5cc_a0a3_11eb_b80f_acde48001122row2_col1\" class=\"data row2 col1\" >0.000677</td>\n",
       "                        <td id=\"T_174cd5cc_a0a3_11eb_b80f_acde48001122row2_col2\" class=\"data row2 col2\" >0.552892</td>\n",
       "                        <td id=\"T_174cd5cc_a0a3_11eb_b80f_acde48001122row2_col3\" class=\"data row2 col3\" >0.843213</td>\n",
       "                        <td id=\"T_174cd5cc_a0a3_11eb_b80f_acde48001122row2_col4\" class=\"data row2 col4\" >14.059766</td>\n",
       "            </tr>\n",
       "            <tr>\n",
       "                        <th id=\"T_174cd5cc_a0a3_11eb_b80f_acde48001122level0_row3\" class=\"row_heading level0 row3\" >0</th>\n",
       "                        <td id=\"T_174cd5cc_a0a3_11eb_b80f_acde48001122row3_col0\" class=\"data row3 col0\" >dow</td>\n",
       "                        <td id=\"T_174cd5cc_a0a3_11eb_b80f_acde48001122row3_col1\" class=\"data row3 col1\" >0.009874</td>\n",
       "                        <td id=\"T_174cd5cc_a0a3_11eb_b80f_acde48001122row3_col2\" class=\"data row3 col2\" >0.514826</td>\n",
       "                        <td id=\"T_174cd5cc_a0a3_11eb_b80f_acde48001122row3_col3\" class=\"data row3 col3\" >0.452778</td>\n",
       "                        <td id=\"T_174cd5cc_a0a3_11eb_b80f_acde48001122row3_col4\" class=\"data row3 col4\" >1.995599</td>\n",
       "            </tr>\n",
       "            <tr>\n",
       "                        <th id=\"T_174cd5cc_a0a3_11eb_b80f_acde48001122level0_row4\" class=\"row_heading level0 row4\" >6</th>\n",
       "                        <td id=\"T_174cd5cc_a0a3_11eb_b80f_acde48001122row4_col0\" class=\"data row4 col0\" >weather_Clear</td>\n",
       "                        <td id=\"T_174cd5cc_a0a3_11eb_b80f_acde48001122row4_col1\" class=\"data row4 col1\" >-0.002776</td>\n",
       "                        <td id=\"T_174cd5cc_a0a3_11eb_b80f_acde48001122row4_col2\" class=\"data row4 col2\" >0.121222</td>\n",
       "                        <td id=\"T_174cd5cc_a0a3_11eb_b80f_acde48001122row4_col3\" class=\"data row4 col3\" >0.404479</td>\n",
       "                        <td id=\"T_174cd5cc_a0a3_11eb_b80f_acde48001122row4_col4\" class=\"data row4 col4\" >0.499023</td>\n",
       "            </tr>\n",
       "            <tr>\n",
       "                        <th id=\"T_174cd5cc_a0a3_11eb_b80f_acde48001122level0_row5\" class=\"row_heading level0 row5\" >3</th>\n",
       "                        <td id=\"T_174cd5cc_a0a3_11eb_b80f_acde48001122row5_col0\" class=\"data row5 col0\" >rain_1h</td>\n",
       "                        <td id=\"T_174cd5cc_a0a3_11eb_b80f_acde48001122row5_col1\" class=\"data row5 col1\" >0.000000</td>\n",
       "                        <td id=\"T_174cd5cc_a0a3_11eb_b80f_acde48001122row5_col2\" class=\"data row5 col2\" >0.000000</td>\n",
       "                        <td id=\"T_174cd5cc_a0a3_11eb_b80f_acde48001122row5_col3\" class=\"data row5 col3\" >0.000000</td>\n",
       "                        <td id=\"T_174cd5cc_a0a3_11eb_b80f_acde48001122row5_col4\" class=\"data row5 col4\" >5.511458</td>\n",
       "            </tr>\n",
       "            <tr>\n",
       "                        <th id=\"T_174cd5cc_a0a3_11eb_b80f_acde48001122level0_row6\" class=\"row_heading level0 row6\" >4</th>\n",
       "                        <td id=\"T_174cd5cc_a0a3_11eb_b80f_acde48001122row6_col0\" class=\"data row6 col0\" >cloud_coverage</td>\n",
       "                        <td id=\"T_174cd5cc_a0a3_11eb_b80f_acde48001122row6_col1\" class=\"data row6 col1\" >0.000000</td>\n",
       "                        <td id=\"T_174cd5cc_a0a3_11eb_b80f_acde48001122row6_col2\" class=\"data row6 col2\" >0.000000</td>\n",
       "                        <td id=\"T_174cd5cc_a0a3_11eb_b80f_acde48001122row6_col3\" class=\"data row6 col3\" >0.000000</td>\n",
       "                        <td id=\"T_174cd5cc_a0a3_11eb_b80f_acde48001122row6_col4\" class=\"data row6 col4\" >50.024740</td>\n",
       "            </tr>\n",
       "    </tbody></table>"
      ],
      "text/plain": [
       "<pandas.io.formats.style.Styler at 0x7fc86152afd0>"
      ]
     },
     "execution_count": 32,
     "metadata": {},
     "output_type": "execute_result"
    }
   ],
   "source": [
    "sobol2_df = pd.DataFrame({'features':sobol_problem['names'],\\\n",
    "                          '1st':factor_fixing2_sa['S1'],\\\n",
    "                          'Total':factor_fixing2_sa['ST'],\\\n",
    "                          'Total Conf':factor_fixing2_sa['ST_conf'],\\\n",
    "                          'Mean of Input':saltelli_sample.mean(axis=0)[0:7]})\n",
    "sobol2_df.sort_values('Total', ascending=False).style.\\\n",
    "    background_gradient(cmap='plasma', subset=['Total'])"
   ]
  },
  {
   "cell_type": "markdown",
   "metadata": {},
   "source": [
    "One thing that is hard to appreciate with a table is the confidence intervals of the sensitivity indices. For that, we can use a bar plot, but first, we must convert the entire dictionary into a DataFrame so that SALib's plotting function can plot it:"
   ]
  },
  {
   "cell_type": "code",
   "execution_count": 33,
   "metadata": {},
   "outputs": [
    {
     "data": {
      "image/png": "[encoded data removed]",
      "text/plain": [
       "<Figure size 1080x504 with 1 Axes>"
      ]
     },
     "metadata": {
      "needs_background": "light"
     },
     "output_type": "display_data"
    }
   ],
   "source": [
    "factor_fixing2_df = factor_fixing2_sa.to_df()\n",
    "fig, (ax) = plt.subplots(1,1, figsize=(15, 7))\n",
    "sp.plot(factor_fixing2_df[0], ax=ax)\n",
    "plt.show()"
   ]
  },
  {
   "cell_type": "markdown",
   "metadata": {},
   "source": [
    "The preceding code generates the following bar plot. The 95% confidence interval for is_ holiday is much larger than for other important factors, which shouldn't be surprising considering that the model was trained with fewer instances of holidays (only 3% of days are holidays). Another interesting insight is how weather_Clear has negative first- order effects, so the positive total-order indices are entirely attributed to second-order ones, which expand the confidence interval."
   ]
  },
  {
   "cell_type": "code",
   "execution_count": 34,
   "metadata": {},
   "outputs": [
    {
     "data": {
      "image/png": "[encoded data removed]",
      "text/plain": [
       "<Figure size 432x360 with 2 Axes>"
      ]
     },
     "metadata": {
      "needs_background": "light"
     },
     "output_type": "display_data"
    }
   ],
   "source": [
    "plt.figure(figsize=(6, 5))\n",
    "sns.heatmap(factor_fixing2_sa['S2'], cmap='Blues',\\\n",
    "            xticklabels=sobol_problem['names'],\\\n",
    "            yticklabels=sobol_problem['names'])\n",
    "plt.show()"
   ]
  },
  {
   "cell_type": "markdown",
   "metadata": {},
   "source": [
    "The preceding heatmap shows similar salient interactions to those from before but they're much more nuanced since there are more shades. It becomes evident that there's negligible interaction between `hr` and `temp`, and that there are smaller second-order effects between `dow` and `hr` than between `dow` and `temp`. Meanwhile, `hr` still interacts with every other factor except `temp`, but effects are less stark between `is_holiday` and the others."
   ]
  },
  {
   "cell_type": "markdown",
   "metadata": {},
   "source": [
    "## 4) Conclusion"
   ]
  },
  {
   "cell_type": "markdown",
   "metadata": {},
   "source": [
    "The mission was to train a traffic prediction model and understand what factors create uncertainty and possibly increase costs for the construction company. We can conclude that a large portion of the potential \\\\$20,000/year in fines can be attributed to the is_ holiday factor. Therefore, the construction company should rethink working holidays. There are only five or six holidays between May and October, and they could cost more because of the fines than working on a few Sundays instead. Of course, these conclusions are for the chosen model – which we can compare with other, better models. With this caveat, the mission was successful, but there's still a lot of room for improvement."
   ]
  }
 ],
 "metadata": {
  "kernelspec": {
   "display_name": "Python 3",
   "language": "python",
   "name": "python3"
  },
  "language_info": {
   "codemirror_mode": {
    "name": "ipython",
    "version": 3
   },
   "file_extension": ".py",
   "mimetype": "text/x-python",
   "name": "python",
   "nbconvert_exporter": "python",
   "pygments_lexer": "ipython3",
   "version": "3.8.5"
  }
 },
 "nbformat": 4,
 "nbformat_minor": 4
}
