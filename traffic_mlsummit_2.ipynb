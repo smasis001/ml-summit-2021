{
 "cells": [
  {
   "cell_type": "markdown",
   "metadata": {},
   "source": [
    "# Interpretable Multivariate Forecasting with Deep Learning\n",
    "## **Exercise**: _Traffic & Construction (Part 2)_\n",
    "### Workshop for ML Summit — scheduled for April 19th, 2020 2:15 PM CEST\n",
    "### by Serg Masís ([LinkedIn](https://www.linkedin.com/in/smasis/), [Twitter](https://twitter.com/smasis), [Amazon](https://www.amazon.com/kindle-dbs/entity/author/B08PQ8P9BS?_encoding=UTF8&node=283155&offset=0&pageSize=12&searchAlias=stripbooks&sort=author-sidecar-rank&page=1&langFilter=default#formatSelectorHeader), [Serg.ai](https://www.serg.ai/), [Github](https://www.serg.ai/), [Packt](https://www.packtpub.com/authors/serg-masis)) "
   ]
  },
  {
   "cell_type": "markdown",
   "metadata": {},
   "source": [
    "This notebook will walk through:\n",
    "\n",
    "**PART II**\n",
    "\n",
    "- Learn approach to approximate predictions using filter and distance functions\n",
    "- Leverage [KernelExplainer](https://shap-lrjball.readthedocs.io/en/latest/generated/shap.KernelExplainer.html) to understand what features impact the outcome the most, both globally and locally. "
   ]
  },
  {
   "cell_type": "markdown",
   "metadata": {},
   "source": [
    "## 1) Install Libraries\n",
    "#### _(if not installed already)_"
   ]
  },
  {
   "cell_type": "markdown",
   "metadata": {},
   "source": [
    "Only if not Google Colab because google colab has these preinstalled:"
   ]
  },
  {
   "cell_type": "code",
   "execution_count": null,
   "metadata": {},
   "outputs": [],
   "source": [
    "!pip install --upgrade pandas numpy scikit-learn statsmodels tensorflow Keras matplotlib seaborn"
   ]
  },
  {
   "cell_type": "markdown",
   "metadata": {},
   "source": [
    "Always installed unless installed already:"
   ]
  },
  {
   "cell_type": "code",
   "execution_count": null,
   "metadata": {},
   "outputs": [],
   "source": [
    "!pip install --upgrade machine-learning-datasets\n",
    "!pip install --upgrade distython shap"
   ]
  },
  {
   "cell_type": "markdown",
   "metadata": {},
   "source": [
    "## 2) Preparations"
   ]
  },
  {
   "cell_type": "markdown",
   "metadata": {},
   "source": [
    "Run every cell in this section:"
   ]
  },
  {
   "cell_type": "code",
   "execution_count": 1,
   "metadata": {},
   "outputs": [
    {
     "name": "stderr",
     "output_type": "stream",
     "text": [
      "Using plaidml.keras.backend backend.\n"
     ]
    }
   ],
   "source": [
    "import math\n",
    "import os\n",
    "import warnings\n",
    "warnings.filterwarnings(\"ignore\")\n",
    "\n",
    "#DATA WRANGLING\n",
    "import machine_learning_datasets as mldatasets\n",
    "import pandas as pd\n",
    "import numpy as np\n",
    "from sklearn.preprocessing import MinMaxScaler\n",
    "from tensorflow.keras.preprocessing.sequence import TimeseriesGenerator\n",
    "from keras.utils.data_utils import get_file\n",
    "\n",
    "#VISUALIZATION\n",
    "import matplotlib.pyplot as plt\n",
    "import seaborn as sns\n",
    "\n",
    "#MODELING\n",
    "import tensorflow as tf\n",
    "from tensorflow import keras\n",
    "\n",
    "#INTERPRETATION\n",
    "from sklearn import metrics\n",
    "from distython import HEOM\n",
    "import shap"
   ]
  },
  {
   "cell_type": "code",
   "execution_count": 3,
   "metadata": {},
   "outputs": [
    {
     "name": "stdout",
     "output_type": "stream",
     "text": [
      "https://archive.ics.uci.edu/ml/machine-learning-databases/00492/Metro_Interstate_Traffic_Volume.csv.gz downloaded to /Users/smasis/Documents/OTHER/InterpretableMLBook/presentations/ml-summit-2021/data/Metro_Interstate_Traffic_Volume.csv.gz\n",
      "1 dataset files found in /Users/smasis/Documents/OTHER/InterpretableMLBook/presentations/ml-summit-2021/data folder\n",
      "parsing /Users/smasis/Documents/OTHER/InterpretableMLBook/presentations/ml-summit-2021/data/Metro_Interstate_Traffic_Volume.csv.gz\n"
     ]
    }
   ],
   "source": [
    "traffic_df = mldatasets.load(\"traffic-volume\", prepare=True)"
   ]
  },
  {
   "cell_type": "code",
   "execution_count": 4,
   "metadata": {},
   "outputs": [
    {
     "data": {
      "text/plain": [
       "MinMaxScaler()"
      ]
     },
     "execution_count": 4,
     "metadata": {},
     "output_type": "execute_result"
    }
   ],
   "source": [
    "y_scaler = MinMaxScaler()\n",
    "y_scaler.fit(traffic_df[['traffic_volume']])\n",
    "X_scaler = MinMaxScaler()\n",
    "X_scaler.fit(traffic_df.drop(['traffic_volume'], axis=1))"
   ]
  },
  {
   "cell_type": "code",
   "execution_count": 6,
   "metadata": {},
   "outputs": [
    {
     "name": "stdout",
     "output_type": "stream",
     "text": [
      "gen_all_678:\t1041\t×\t(24, 672, 14)\t→\t(24, 1)\n"
     ]
    }
   ],
   "source": [
    "lookback = 672\n",
    "y_all = y_scaler.transform(traffic_df[['traffic_volume']])\n",
    "X_all = X_scaler.transform(traffic_df.drop(['traffic_volume'], axis=1))\n",
    "gen_all = TimeseriesGenerator(X_all, y_all, length=672, batch_size=24)\n",
    "print(\"gen_all_678:\\t%s\\t×\\t%s\\t→\\t%s\" % (len(gen_all),\\\n",
    "                                    gen_all[0][0].shape,\\\n",
    "                                    gen_all[0][1].shape))"
   ]
  },
  {
   "cell_type": "code",
   "execution_count": 12,
   "metadata": {},
   "outputs": [],
   "source": [
    "X_df = traffic_df.drop(['traffic_volume'], axis=1).reset_index(drop=True)"
   ]
  },
  {
   "cell_type": "code",
   "execution_count": 7,
   "metadata": {},
   "outputs": [],
   "source": [
    "rand = 9\n",
    "os.environ['PYTHONHASHSEED']=str(rand)\n",
    "tf.random.set_seed(rand)\n",
    "np.random.seed(rand)"
   ]
  },
  {
   "cell_type": "code",
   "execution_count": 8,
   "metadata": {},
   "outputs": [
    {
     "name": "stdout",
     "output_type": "stream",
     "text": [
      "Model: \"Traffic_Bidirectional_LSTM_672\"\n",
      "_________________________________________________________________\n",
      "Layer (type)                 Output Shape              Param #   \n",
      "=================================================================\n",
      "Bidir_LSTM (Bidirectional)   (24, 672)                 943488    \n",
      "_________________________________________________________________\n",
      "Dropout (Dropout)            (24, 672)                 0         \n",
      "_________________________________________________________________\n",
      "Dense (Dense)                (24, 1)                   673       \n",
      "=================================================================\n",
      "Total params: 944,161\n",
      "Trainable params: 944,161\n",
      "Non-trainable params: 0\n",
      "_________________________________________________________________\n"
     ]
    }
   ],
   "source": [
    "model_path = get_file('LSTM_traffic_672_final.hdf5',\\\n",
    "            'https://github.com/PacktPublishing/Interpretable-Machine-Learning-with-Python/blob/master/models/LSTM_traffic_672_final.hdf5?raw=true')\n",
    "lstm_traffic_mdl = keras.models.load_model(model_path)\n",
    "lstm_traffic_mdl.summary()"
   ]
  },
  {
   "cell_type": "markdown",
   "metadata": {},
   "source": [
    "## 3) Computing global and local attributions with SHAP's KernelExplainer"
   ]
  },
  {
   "cell_type": "markdown",
   "metadata": {},
   "source": [
    "### 3.1) Initial Setup"
   ]
  },
  {
   "cell_type": "markdown",
   "metadata": {},
   "source": [
    "We will find the time series data that best suits the permutated input with existing examples from our `gen_all` generator. There are distance metrics we can use to find the one that is closest to the permutated input. However, we must place some guardrails because if the permutation is for a Saturday at 5 a.m. with a temperature of 27 degrees Celsius and 90 percent cloud coverage, the closest observation to this one could be on\n",
    "a Friday at 7a.m., but regardless of the weather traffic, it would be completely different. Therefore, we can implement a filter function that ensures that it only finds closest observations for the same dow, is_holiday, and hr. The filter function can also clean up the permutated sample to remove or modify anything nonsensical for the model, such as a continuous value for a categorical feature:"
   ]
  },
  {
   "cell_type": "markdown",
   "metadata": {},
   "source": [
    "![SHAP Strategy](https://github.com/smasis001/ml-summit-2021/blob/main/traffic_strategy.png)"
   ]
  },
  {
   "cell_type": "markdown",
   "metadata": {},
   "source": [
    "#### Define Filter Function"
   ]
  },
  {
   "cell_type": "markdown",
   "metadata": {},
   "source": [
    "It takes a pandas DataFrame with the entire dataset (`X_df`) you want to filter from, as well as the permutated sample (`x`) for filtering and the length of the lookback window. The function can also modify the permutated sample. In this case, we have to do this because so many features of the model are discrete, but the permutation process makes them continuous. All the filtering does is protect the distance function from finding a nonsensical closest sample to the permutated sample by limiting the options"
   ]
  },
  {
   "cell_type": "code",
   "execution_count": 52,
   "metadata": {},
   "outputs": [],
   "source": [
    "def filt_fn(X_df, x, lookback):\n",
    "    #print(x.tolist())\n",
    "    x_ = x.copy()\n",
    "    x_[0] = round(x_[0])\n",
    "    x_[1] = round(x_[1])\n",
    "    x_[4] = round(x_[4])\n",
    "    x_[5] = round(x_[5])\n",
    "    if x_[1] < 0:\n",
    "        x_[1] = 24 + x_[1]\n",
    "        x_[0] = x_[0] - 1\n",
    "    if x_[0] < 0:\n",
    "        x_[0] = 7 + x_[0]\n",
    "    x_[6] = round(x_[6])\n",
    "    x_[7] = round(x_[7])\n",
    "    x_[8] = round(x_[8])\n",
    "    x_[9] = round(x_[9])\n",
    "    x_[10] = round(x_[10])\n",
    "    x_[11] = round(x_[11])\n",
    "    x_[12] = round(x_[12])\n",
    "    x_[13] = round(x_[13])\n",
    "    #if not (x==x_).all(): print('\\t%s' % x_.tolist())\n",
    "    X_filt_df = X_df[(X_df.index >= lookback) & (X_df.dow==x_[0]) & (X_df.hr==x_[1]) &\\\n",
    "             (X_df.is_holiday==x_[5]) & (X_df.temp-5<=x_[2]) & (X_df.temp+5>=x_[2])]\n",
    "    if X_filt_df.shape[0]==0:\n",
    "        X_filt_df = X_df[(X_df.index >= lookback) & (X_df.dow==x_[0]) & (X_df.hr==x_[1]) &\\\n",
    "                         (X_df.is_holiday==x_[5]) & (X_df.temp-8<=x_[2]) & (X_df.temp+8>=x_[2])]\n",
    "    if X_filt_df.shape[0]==0:\n",
    "        X_filt_df = X_df[(X_df.index >= lookback) & (X_df.dow==x_[0]) & (X_df.hr==x_[1]) &\\\n",
    "                         (X_df.temp-11<=x_[2]) & (X_df.temp+11>=x_[2])]\n",
    "    return X_filt_df, x_"
   ]
  },
  {
   "cell_type": "markdown",
   "metadata": {},
   "source": [
    "#### Define Distance Function"
   ]
  },
  {
   "cell_type": "markdown",
   "metadata": {},
   "source": [
    "We could use any standard distance function accepted by scipy.spatial.distance.cdist, such as \"Euclidean,\" \"cosine,\" or \"Hamming.\" The problem with these standard distance functions is that they either work well with continuous or discrete variables but not both. We have both in this dataset!"
   ]
  },
  {
   "cell_type": "markdown",
   "metadata": {},
   "source": [
    "Fortunately, some alternatives exist that can handle both, such as Heterogeneous Euclidean-Overlap Metric (HEOM). HEOM uses a normalized Euclidean ($\\sqrt{(𝑎 − 𝑏)^2}$) for continuous and, for discrete, \"overlap\" distance; that is, a distance of zero if the same and one otherwise. Once the dataset has been filtered by day of week (`dow`) and hour (`hr`), the remaining discrete features are all binary, so \"overlap\" distance is ideal, and for the three remaining continuous features (`temp`, `rain_1h`, and `cloud_coverage`), Euclidean distance should suffice."
   ]
  },
  {
   "cell_type": "code",
   "execution_count": 53,
   "metadata": {},
   "outputs": [],
   "source": [
    "cat_idxs = np.where(traffic_df.drop(['traffic_volume'], axis=1).dtypes != np.float64)[0]\n",
    "heom_dist = HEOM(X_df.values, cat_idxs)"
   ]
  },
  {
   "cell_type": "code",
   "execution_count": 54,
   "metadata": {},
   "outputs": [
    {
     "name": "stdout",
     "output_type": "stream",
     "text": [
      "[ 0  1  5  6  7  8  9 10 11 12 13]\n"
     ]
    }
   ],
   "source": [
    "print(cat_idxs)"
   ]
  },
  {
   "cell_type": "markdown",
   "metadata": {},
   "source": [
    "#### Define Predict Function"
   ]
  },
  {
   "cell_type": "code",
   "execution_count": 55,
   "metadata": {},
   "outputs": [],
   "source": [
    "predict_fn = lambda X: mldatasets.\\\n",
    "                        approx_predict_ts(X, X_df, gen_all, lstm_traffic_mdl,\\\n",
    "                              dist_metric=heom_dist.heom, lookback=lookback,\\\n",
    "                              filt_fn=filt_fn, X_scaler=X_scaler, y_scaler=y_scaler)"
   ]
  },
  {
   "cell_type": "markdown",
   "metadata": {},
   "source": [
    "### 3.2) Define Scope for Attributions"
   ]
  },
  {
   "cell_type": "code",
   "execution_count": null,
   "metadata": {},
   "outputs": [],
   "source": [
    "working_season_df = traffic_df[lookback:].drop(['traffic_volume'], axis=1).copy()\n",
    "working_season_df = working_season_df[(working_season_df.index.month >= 5) &\\\n",
    "                                      (working_season_df.index.month <= 10)]"
   ]
  },
  {
   "cell_type": "markdown",
   "metadata": {},
   "source": [
    "### 3.3) Initialize KernelExplainer"
   ]
  },
  {
   "cell_type": "code",
   "execution_count": 19,
   "metadata": {},
   "outputs": [
    {
     "name": "stdout",
     "output_type": "stream",
     "text": [
      "[3.0, 6.0, 15.220000000000027, 0.125, 40.0, 0.0, 0.0, 1.0, 0.0, 0.0, 0.0, 0.0, 0.0, 0.0]\n",
      "[3.0, 6.0, 8.970000000000027, 0.0, 1.0, 0.0, 1.0, 0.0, 0.0, 0.0, 0.0, 0.0, 0.0, 0.0]\n",
      "[3.0, 17.0, 18.160000000000025, 0.255, 90.0, 0.0, 0.0, 0.0, 0.0, 0.0, 0.0, 0.0, 0.0, 0.0]\n",
      "[3.0, 17.0, 23.470000000000027, 0.0, 40.0, 0.0, 0.0, 1.0, 0.0, 0.0, 0.0, 0.0, 0.0, 0.0]\n",
      "[3.0, 18.0, 22.620000000000005, 0.0, 2.0, 0.0, 1.0, 0.0, 0.0, 0.0, 0.0, 0.0, 0.0, 0.0]\n",
      "[3.0, 7.0, 15.560000000000002, 0.125, 75.0, 0.0, 0.0, 1.0, 0.0, 0.0, 0.0, 0.0, 0.0, 0.0]\n",
      "[3.0, 4.0, 18.590000000000032, 0.0, 1.0, 0.0, 1.0, 0.0, 0.0, 0.0, 0.0, 0.0, 0.0, 0.0]\n",
      "[3.0, 13.0, 19.810000000000002, 0.0, 20.0, 0.0, 0.0, 1.0, 0.0, 0.0, 0.0, 0.0, 0.0, 0.0]\n",
      "[3.0, 17.0, 22.920000000000016, 0.125, 75.0, 0.0, 0.0, 1.0, 0.0, 0.0, 0.0, 0.0, 0.0, 0.0]\n",
      "[3.0, 6.0, 14.450000000000045, 0.2, 90.0, 0.0, 0.0, 0.0, 0.0, 0.0, 0.0, 0.0, 0.0, 0.0]\n",
      "CPU times: user 17.7 s, sys: 11.4 s, total: 29.1 s\n",
      "Wall time: 5.92 s\n"
     ]
    }
   ],
   "source": [
    "%%time\n",
    "explainer = shap.KernelExplainer(predict_fn,\\\n",
    "                                 shap.kmeans(working_season_df.values, 10))"
   ]
  },
  {
   "cell_type": "markdown",
   "metadata": {},
   "source": [
    "### 3.4) Computing the SHAP Values"
   ]
  },
  {
   "cell_type": "markdown",
   "metadata": {},
   "source": [
    "`KernelExplainer` is rather slow, especially when it's using our approximation method. We will sample 48 observations from it. To get an optimal global interpretation, it is best to use a high number of observations but also a high nsamples, which is the number of times we need to reevaluate the model when explaining each prediction. Unfortunately, having 50 of each would cause the explainer to take many hours to run, depending on your available compute, so we will use `nsamples=5`."
   ]
  },
  {
   "cell_type": "code",
   "execution_count": 21,
   "metadata": {},
   "outputs": [
    {
     "data": {
      "application/vnd.jupyter.widget-view+json": {
       "model_id": "4e0ca17b21f2459189ec43800693e0ed",
       "version_major": 2,
       "version_minor": 0
      },
      "text/plain": [
       "HBox(children=(HTML(value=''), FloatProgress(value=0.0, max=48.0), HTML(value='')))"
      ]
     },
     "metadata": {},
     "output_type": "display_data"
    },
    {
     "name": "stdout",
     "output_type": "stream",
     "text": [
      "\n",
      "CPU times: user 1h 37s, sys: 44min 57s, total: 1h 45min 35s\n",
      "Wall time: 27min\n"
     ]
    }
   ],
   "source": [
    "%%time\n",
    "X_samp_df = working_season_df.sample(48, random_state=rand)\n",
    "shap_values = explainer.shap_values(X_samp_df, nsamples=5)"
   ]
  },
  {
   "cell_type": "markdown",
   "metadata": {},
   "source": [
    "### 3.5) Global Interpretation"
   ]
  },
  {
   "cell_type": "markdown",
   "metadata": {},
   "source": [
    "Not surprisingly, hr and dow are the most important features, followed by some weather features. Strangely enough, temperature and rain don't seem to weigh in on the predictions, but late Spring through Fall may not be a significant factor. Or maybe more observations and a higher nsample will yield a better global interpretation:"
   ]
  },
  {
   "cell_type": "code",
   "execution_count": 22,
   "metadata": {},
   "outputs": [
    {
     "data": {
      "image/png": "[encoded data removed]",
      "text/plain": [
       "<Figure size 576x511.2 with 1 Axes>"
      ]
     },
     "metadata": {
      "needs_background": "light"
     },
     "output_type": "display_data"
    }
   ],
   "source": [
    "shap.summary_plot(shap_values, X_samp_df)"
   ]
  },
  {
   "cell_type": "markdown",
   "metadata": {},
   "source": [
    "### 3.6) Local Interpretations"
   ]
  },
  {
   "cell_type": "code",
   "execution_count": 25,
   "metadata": {},
   "outputs": [],
   "source": [
    "holiday_afternoon_s = X_df[(X_df.index >= 23471) & (X_df.dow==0) &\\\n",
    "                           (X_df.hr==16) & (X_df.is_holiday==1)]\n",
    "peak_morning_s = X_df[(X_df.index >= 23471) & (X_df.dow==2) &\\\n",
    "                      (X_df.hr==8) & (X_df.weather_Clouds==1) &\\\n",
    "                      (X_df.temp<20)]\n",
    "hot_saturday_s = X_df[(X_df.index >= 23471) & (X_df.dow==5) &\\\n",
    "                      (X_df.hr==12) & (X_df.temp>29)]"
   ]
  },
  {
   "cell_type": "markdown",
   "metadata": {},
   "source": [
    "Let's iterate through all these datapoints. Then, we can produce a single shap_values but this time with nsamples=60, and then generate a `force_plot` for each one:"
   ]
  },
  {
   "cell_type": "code",
   "execution_count": 26,
   "metadata": {},
   "outputs": [
    {
     "name": "stdout",
     "output_type": "stream",
     "text": [
      "Holiday Afternoon\n"
     ]
    },
    {
     "data": {
      "application/vnd.jupyter.widget-view+json": {
       "model_id": "6ca475e6d02046f3b35c80889cd9c7d4",
       "version_major": 2,
       "version_minor": 0
      },
      "text/plain": [
       "HBox(children=(HTML(value=''), FloatProgress(value=0.0, max=1.0), HTML(value='')))"
      ]
     },
     "metadata": {},
     "output_type": "display_data"
    },
    {
     "name": "stdout",
     "output_type": "stream",
     "text": [
      "\n"
     ]
    },
    {
     "data": {
      "image/png": "[encoded data removed]",
      "text/plain": [
       "<Figure size 1440x216 with 1 Axes>"
      ]
     },
     "metadata": {
      "needs_background": "light"
     },
     "output_type": "display_data"
    },
    {
     "name": "stdout",
     "output_type": "stream",
     "text": [
      "Peak Morning\n"
     ]
    },
    {
     "data": {
      "application/vnd.jupyter.widget-view+json": {
       "model_id": "9c4fe3ff74244216b728755505ae5786",
       "version_major": 2,
       "version_minor": 0
      },
      "text/plain": [
       "HBox(children=(HTML(value=''), FloatProgress(value=0.0, max=1.0), HTML(value='')))"
      ]
     },
     "metadata": {},
     "output_type": "display_data"
    },
    {
     "name": "stdout",
     "output_type": "stream",
     "text": [
      "\n"
     ]
    },
    {
     "data": {
      "image/png": "[encoded data removed]",
      "text/plain": [
       "<Figure size 1440x216 with 1 Axes>"
      ]
     },
     "metadata": {
      "needs_background": "light"
     },
     "output_type": "display_data"
    },
    {
     "name": "stdout",
     "output_type": "stream",
     "text": [
      "Hot Saturday\n"
     ]
    },
    {
     "data": {
      "application/vnd.jupyter.widget-view+json": {
       "model_id": "e29402c4a9434a02a98e70771013e9ed",
       "version_major": 2,
       "version_minor": 0
      },
      "text/plain": [
       "HBox(children=(HTML(value=''), FloatProgress(value=0.0, max=1.0), HTML(value='')))"
      ]
     },
     "metadata": {},
     "output_type": "display_data"
    },
    {
     "name": "stdout",
     "output_type": "stream",
     "text": [
      "\n"
     ]
    },
    {
     "data": {
      "image/png": "[encoded data removed]",
      "text/plain": [
       "<Figure size 1440x216 with 1 Axes>"
      ]
     },
     "metadata": {
      "needs_background": "light"
     },
     "output_type": "display_data"
    },
    {
     "name": "stdout",
     "output_type": "stream",
     "text": [
      "CPU times: user 43min 1s, sys: 32min 25s, total: 1h 15min 26s\n",
      "Wall time: 18min 59s\n"
     ]
    }
   ],
   "source": [
    "%%time\n",
    "datapoints = [holiday_afternoon_s, peak_morning_s, hot_saturday_s]\n",
    "datapoint_labels = ['Holiday Afternoon', 'Peak Morning', 'Hot Saturday']\n",
    "for i in range(len(datapoints)):\n",
    "    print(datapoint_labels[i])\n",
    "    shap_values_single = explainer.shap_values(datapoints[i], nsamples=60)\n",
    "    shap.force_plot(explainer.expected_value, shap_values_single[0],\\\n",
    "                    datapoints[i], matplotlib=True)\n",
    "    plt.show()"
   ]
  },
  {
   "cell_type": "markdown",
   "metadata": {},
   "source": [
    "\"Holiday afternoon\" has the hour (hr=16) pushing toward a higher prediction, while the fact that it's a Monday (dow=0) and a holiday (is_holiday=1) is a driving force in the opposite direction. On the other hand, \"Peak Morning\" is mostly peak due to the hour (hr=8.0), but it has a high cloud_coverage, affirmative weather_Clouds, and yet no rain (rain_1h=0.0). Lastly, \"Hot Saturday\" has the day of week (dow=5) pushing for a lower value, but the abnormally high value is mostly due to it being midday and it having a collection of weather features, the most important of which is temp=29.42... (85°F)."
   ]
  },
  {
   "cell_type": "markdown",
   "metadata": {},
   "source": [
    "In the real world, **variability is often determined by what is NOT represented in your data – but infinitesimally plausible**. For instance, reaching 25°C (77°F) before 5 a.m. in a Minneapolis summer is not a common occurrence, but with global warming, it could become frequent, so we would want to simulate how it could impact traffic patterns. Forecasting models are particularly prone to risk, so simulating is a crucial interpretation component to assess this uncertainty. A better understanding of uncertainty can yield more robust models or directly inform decisions. Next, we will discuss how we can produce simulations with sensitivity analysis methods."
   ]
  }
 ],
 "metadata": {
  "kernelspec": {
   "display_name": "Python 3",
   "language": "python",
   "name": "python3"
  },
  "language_info": {
   "codemirror_mode": {
    "name": "ipython",
    "version": 3
   },
   "file_extension": ".py",
   "mimetype": "text/x-python",
   "name": "python",
   "nbconvert_exporter": "python",
   "pygments_lexer": "ipython3",
   "version": "3.8.5"
  }
 },
 "nbformat": 4,
 "nbformat_minor": 4
}
